{
  "nbformat": 4,
  "nbformat_minor": 0,
  "metadata": {
    "colab": {
      "provenance": []
    },
    "kernelspec": {
      "name": "python3",
      "display_name": "Python 3"
    },
    "language_info": {
      "name": "python"
    }
  },
  "cells": [
    {
      "cell_type": "code",
      "execution_count": null,
      "metadata": {
        "id": "PyOBGM1GyCwI"
      },
      "outputs": [],
      "source": [
        "import pandas as pd\n",
        "import numpy as np"
      ]
    },
    {
      "cell_type": "code",
      "source": [
        "inventory_dataset = pd.read_csv(\"inventory_dataset.csv\")\n",
        "peckinge_dataset = pd.read_csv(\"peckinge_dataset.csv\")"
      ],
      "metadata": {
        "id": "Ok9zQ73gyLjC"
      },
      "execution_count": null,
      "outputs": []
    },
    {
      "cell_type": "code",
      "source": [
        "inventory_dataset.head()"
      ],
      "metadata": {
        "colab": {
          "base_uri": "https://localhost:8080/",
          "height": 300
        },
        "id": "whsQIzZtyOzX",
        "outputId": "5e4ac4ef-580d-4927-b5b8-0da2fc6daa43"
      },
      "execution_count": null,
      "outputs": [
        {
          "output_type": "execute_result",
          "data": {
            "text/plain": [
              "   Pelvis_x  Pelvis_y  Pelvis_z      L5_x      L5_y      L5_z      L3_x  \\\n",
              "0  0.068014  0.749467  0.951387  0.065755  0.743763  0.945656  0.063246   \n",
              "1  0.068135  0.749473  0.951040  0.065880  0.743810  0.945408  0.063359   \n",
              "2  0.068255  0.749479  0.950695  0.066004  0.743856  0.945163  0.063472   \n",
              "3  0.068372  0.749498  0.950405  0.066123  0.743910  0.944954  0.063579   \n",
              "4  0.068483  0.749534  0.950214  0.066230  0.743972  0.944811  0.063675   \n",
              "\n",
              "       L3_y      L3_z     T12_x  ...  LeftUpperLeg_z  LeftLowerLeg_x  \\\n",
              "0  0.740317  0.945693  0.060844  ...        0.968319        0.067335   \n",
              "1  0.740397  0.945457  0.060938  ...        0.967726        0.067459   \n",
              "2  0.740477  0.945221  0.061032  ...        0.967135        0.067584   \n",
              "3  0.740559  0.945020  0.061122  ...        0.966642        0.067715   \n",
              "4  0.740645  0.944881  0.061204  ...        0.966310        0.067855   \n",
              "\n",
              "   LeftLowerLeg_y  LeftLowerLeg_z  LeftFoot_x  LeftFoot_y  LeftFoot_z  \\\n",
              "0        0.773283        0.845203    0.081444    0.783253    0.080349   \n",
              "1        0.773427        0.843701    0.081471    0.783361    0.078390   \n",
              "2        0.773572        0.842200    0.081498    0.783469    0.076438   \n",
              "3        0.773705        0.840949    0.081513    0.783550    0.074852   \n",
              "4        0.773822        0.840103    0.081506    0.783587    0.073853   \n",
              "\n",
              "   LeftToe_x  LeftToe_y  LeftToe_z  \n",
              "0   0.098845   0.769303   0.083381  \n",
              "1   0.098871   0.769416   0.081280  \n",
              "2   0.098897   0.769530   0.079179  \n",
              "3   0.098914   0.769617   0.077657  \n",
              "4   0.098914   0.769664   0.077100  \n",
              "\n",
              "[5 rows x 69 columns]"
            ],
            "text/html": [
              "\n",
              "  <div id=\"df-06b158f2-690a-44d1-91c8-e67b17aa024b\">\n",
              "    <div class=\"colab-df-container\">\n",
              "      <div>\n",
              "<style scoped>\n",
              "    .dataframe tbody tr th:only-of-type {\n",
              "        vertical-align: middle;\n",
              "    }\n",
              "\n",
              "    .dataframe tbody tr th {\n",
              "        vertical-align: top;\n",
              "    }\n",
              "\n",
              "    .dataframe thead th {\n",
              "        text-align: right;\n",
              "    }\n",
              "</style>\n",
              "<table border=\"1\" class=\"dataframe\">\n",
              "  <thead>\n",
              "    <tr style=\"text-align: right;\">\n",
              "      <th></th>\n",
              "      <th>Pelvis_x</th>\n",
              "      <th>Pelvis_y</th>\n",
              "      <th>Pelvis_z</th>\n",
              "      <th>L5_x</th>\n",
              "      <th>L5_y</th>\n",
              "      <th>L5_z</th>\n",
              "      <th>L3_x</th>\n",
              "      <th>L3_y</th>\n",
              "      <th>L3_z</th>\n",
              "      <th>T12_x</th>\n",
              "      <th>...</th>\n",
              "      <th>LeftUpperLeg_z</th>\n",
              "      <th>LeftLowerLeg_x</th>\n",
              "      <th>LeftLowerLeg_y</th>\n",
              "      <th>LeftLowerLeg_z</th>\n",
              "      <th>LeftFoot_x</th>\n",
              "      <th>LeftFoot_y</th>\n",
              "      <th>LeftFoot_z</th>\n",
              "      <th>LeftToe_x</th>\n",
              "      <th>LeftToe_y</th>\n",
              "      <th>LeftToe_z</th>\n",
              "    </tr>\n",
              "  </thead>\n",
              "  <tbody>\n",
              "    <tr>\n",
              "      <th>0</th>\n",
              "      <td>0.068014</td>\n",
              "      <td>0.749467</td>\n",
              "      <td>0.951387</td>\n",
              "      <td>0.065755</td>\n",
              "      <td>0.743763</td>\n",
              "      <td>0.945656</td>\n",
              "      <td>0.063246</td>\n",
              "      <td>0.740317</td>\n",
              "      <td>0.945693</td>\n",
              "      <td>0.060844</td>\n",
              "      <td>...</td>\n",
              "      <td>0.968319</td>\n",
              "      <td>0.067335</td>\n",
              "      <td>0.773283</td>\n",
              "      <td>0.845203</td>\n",
              "      <td>0.081444</td>\n",
              "      <td>0.783253</td>\n",
              "      <td>0.080349</td>\n",
              "      <td>0.098845</td>\n",
              "      <td>0.769303</td>\n",
              "      <td>0.083381</td>\n",
              "    </tr>\n",
              "    <tr>\n",
              "      <th>1</th>\n",
              "      <td>0.068135</td>\n",
              "      <td>0.749473</td>\n",
              "      <td>0.951040</td>\n",
              "      <td>0.065880</td>\n",
              "      <td>0.743810</td>\n",
              "      <td>0.945408</td>\n",
              "      <td>0.063359</td>\n",
              "      <td>0.740397</td>\n",
              "      <td>0.945457</td>\n",
              "      <td>0.060938</td>\n",
              "      <td>...</td>\n",
              "      <td>0.967726</td>\n",
              "      <td>0.067459</td>\n",
              "      <td>0.773427</td>\n",
              "      <td>0.843701</td>\n",
              "      <td>0.081471</td>\n",
              "      <td>0.783361</td>\n",
              "      <td>0.078390</td>\n",
              "      <td>0.098871</td>\n",
              "      <td>0.769416</td>\n",
              "      <td>0.081280</td>\n",
              "    </tr>\n",
              "    <tr>\n",
              "      <th>2</th>\n",
              "      <td>0.068255</td>\n",
              "      <td>0.749479</td>\n",
              "      <td>0.950695</td>\n",
              "      <td>0.066004</td>\n",
              "      <td>0.743856</td>\n",
              "      <td>0.945163</td>\n",
              "      <td>0.063472</td>\n",
              "      <td>0.740477</td>\n",
              "      <td>0.945221</td>\n",
              "      <td>0.061032</td>\n",
              "      <td>...</td>\n",
              "      <td>0.967135</td>\n",
              "      <td>0.067584</td>\n",
              "      <td>0.773572</td>\n",
              "      <td>0.842200</td>\n",
              "      <td>0.081498</td>\n",
              "      <td>0.783469</td>\n",
              "      <td>0.076438</td>\n",
              "      <td>0.098897</td>\n",
              "      <td>0.769530</td>\n",
              "      <td>0.079179</td>\n",
              "    </tr>\n",
              "    <tr>\n",
              "      <th>3</th>\n",
              "      <td>0.068372</td>\n",
              "      <td>0.749498</td>\n",
              "      <td>0.950405</td>\n",
              "      <td>0.066123</td>\n",
              "      <td>0.743910</td>\n",
              "      <td>0.944954</td>\n",
              "      <td>0.063579</td>\n",
              "      <td>0.740559</td>\n",
              "      <td>0.945020</td>\n",
              "      <td>0.061122</td>\n",
              "      <td>...</td>\n",
              "      <td>0.966642</td>\n",
              "      <td>0.067715</td>\n",
              "      <td>0.773705</td>\n",
              "      <td>0.840949</td>\n",
              "      <td>0.081513</td>\n",
              "      <td>0.783550</td>\n",
              "      <td>0.074852</td>\n",
              "      <td>0.098914</td>\n",
              "      <td>0.769617</td>\n",
              "      <td>0.077657</td>\n",
              "    </tr>\n",
              "    <tr>\n",
              "      <th>4</th>\n",
              "      <td>0.068483</td>\n",
              "      <td>0.749534</td>\n",
              "      <td>0.950214</td>\n",
              "      <td>0.066230</td>\n",
              "      <td>0.743972</td>\n",
              "      <td>0.944811</td>\n",
              "      <td>0.063675</td>\n",
              "      <td>0.740645</td>\n",
              "      <td>0.944881</td>\n",
              "      <td>0.061204</td>\n",
              "      <td>...</td>\n",
              "      <td>0.966310</td>\n",
              "      <td>0.067855</td>\n",
              "      <td>0.773822</td>\n",
              "      <td>0.840103</td>\n",
              "      <td>0.081506</td>\n",
              "      <td>0.783587</td>\n",
              "      <td>0.073853</td>\n",
              "      <td>0.098914</td>\n",
              "      <td>0.769664</td>\n",
              "      <td>0.077100</td>\n",
              "    </tr>\n",
              "  </tbody>\n",
              "</table>\n",
              "<p>5 rows × 69 columns</p>\n",
              "</div>\n",
              "      <button class=\"colab-df-convert\" onclick=\"convertToInteractive('df-06b158f2-690a-44d1-91c8-e67b17aa024b')\"\n",
              "              title=\"Convert this dataframe to an interactive table.\"\n",
              "              style=\"display:none;\">\n",
              "        \n",
              "  <svg xmlns=\"http://www.w3.org/2000/svg\" height=\"24px\"viewBox=\"0 0 24 24\"\n",
              "       width=\"24px\">\n",
              "    <path d=\"M0 0h24v24H0V0z\" fill=\"none\"/>\n",
              "    <path d=\"M18.56 5.44l.94 2.06.94-2.06 2.06-.94-2.06-.94-.94-2.06-.94 2.06-2.06.94zm-11 1L8.5 8.5l.94-2.06 2.06-.94-2.06-.94L8.5 2.5l-.94 2.06-2.06.94zm10 10l.94 2.06.94-2.06 2.06-.94-2.06-.94-.94-2.06-.94 2.06-2.06.94z\"/><path d=\"M17.41 7.96l-1.37-1.37c-.4-.4-.92-.59-1.43-.59-.52 0-1.04.2-1.43.59L10.3 9.45l-7.72 7.72c-.78.78-.78 2.05 0 2.83L4 21.41c.39.39.9.59 1.41.59.51 0 1.02-.2 1.41-.59l7.78-7.78 2.81-2.81c.8-.78.8-2.07 0-2.86zM5.41 20L4 18.59l7.72-7.72 1.47 1.35L5.41 20z\"/>\n",
              "  </svg>\n",
              "      </button>\n",
              "      \n",
              "  <style>\n",
              "    .colab-df-container {\n",
              "      display:flex;\n",
              "      flex-wrap:wrap;\n",
              "      gap: 12px;\n",
              "    }\n",
              "\n",
              "    .colab-df-convert {\n",
              "      background-color: #E8F0FE;\n",
              "      border: none;\n",
              "      border-radius: 50%;\n",
              "      cursor: pointer;\n",
              "      display: none;\n",
              "      fill: #1967D2;\n",
              "      height: 32px;\n",
              "      padding: 0 0 0 0;\n",
              "      width: 32px;\n",
              "    }\n",
              "\n",
              "    .colab-df-convert:hover {\n",
              "      background-color: #E2EBFA;\n",
              "      box-shadow: 0px 1px 2px rgba(60, 64, 67, 0.3), 0px 1px 3px 1px rgba(60, 64, 67, 0.15);\n",
              "      fill: #174EA6;\n",
              "    }\n",
              "\n",
              "    [theme=dark] .colab-df-convert {\n",
              "      background-color: #3B4455;\n",
              "      fill: #D2E3FC;\n",
              "    }\n",
              "\n",
              "    [theme=dark] .colab-df-convert:hover {\n",
              "      background-color: #434B5C;\n",
              "      box-shadow: 0px 1px 3px 1px rgba(0, 0, 0, 0.15);\n",
              "      filter: drop-shadow(0px 1px 2px rgba(0, 0, 0, 0.3));\n",
              "      fill: #FFFFFF;\n",
              "    }\n",
              "  </style>\n",
              "\n",
              "      <script>\n",
              "        const buttonEl =\n",
              "          document.querySelector('#df-06b158f2-690a-44d1-91c8-e67b17aa024b button.colab-df-convert');\n",
              "        buttonEl.style.display =\n",
              "          google.colab.kernel.accessAllowed ? 'block' : 'none';\n",
              "\n",
              "        async function convertToInteractive(key) {\n",
              "          const element = document.querySelector('#df-06b158f2-690a-44d1-91c8-e67b17aa024b');\n",
              "          const dataTable =\n",
              "            await google.colab.kernel.invokeFunction('convertToInteractive',\n",
              "                                                     [key], {});\n",
              "          if (!dataTable) return;\n",
              "\n",
              "          const docLinkHtml = 'Like what you see? Visit the ' +\n",
              "            '<a target=\"_blank\" href=https://colab.research.google.com/notebooks/data_table.ipynb>data table notebook</a>'\n",
              "            + ' to learn more about interactive tables.';\n",
              "          element.innerHTML = '';\n",
              "          dataTable['output_type'] = 'display_data';\n",
              "          await google.colab.output.renderOutput(dataTable, element);\n",
              "          const docLink = document.createElement('div');\n",
              "          docLink.innerHTML = docLinkHtml;\n",
              "          element.appendChild(docLink);\n",
              "        }\n",
              "      </script>\n",
              "    </div>\n",
              "  </div>\n",
              "  "
            ]
          },
          "metadata": {},
          "execution_count": 31
        }
      ]
    },
    {
      "cell_type": "code",
      "source": [
        "peckinge_dataset.head()"
      ],
      "metadata": {
        "colab": {
          "base_uri": "https://localhost:8080/",
          "height": 300
        },
        "id": "217QdblJyXYS",
        "outputId": "ff1ec790-7040-446a-d989-6d78114fe6a0"
      },
      "execution_count": null,
      "outputs": [
        {
          "output_type": "execute_result",
          "data": {
            "text/plain": [
              "   Pelvis_x  Pelvis_y  Pelvis_z      L5_x      L5_y      L5_z      L3_x  \\\n",
              "0  0.079830  0.864688  0.671853  0.079532  0.858807  0.854355  0.081614   \n",
              "1  0.079842  0.864671  0.672392  0.079545  0.858803  0.854917  0.081632   \n",
              "2  0.079854  0.864654  0.672943  0.079558  0.858798  0.855478  0.081650   \n",
              "3  0.079881  0.864641  0.673283  0.079584  0.858794  0.855837  0.081680   \n",
              "4  0.079930  0.864631  0.673401  0.079632  0.858787  0.855944  0.081730   \n",
              "\n",
              "       L3_y      L3_z     T12_x  ...  LeftUpperLeg_z  LeftLowerLeg_x  \\\n",
              "0  0.846043  0.947130  0.082259  ...        0.727127        0.082495   \n",
              "1  0.846051  0.947364  0.082283  ...        0.727115        0.082662   \n",
              "2  0.846059  0.947598  0.082306  ...        0.727090        0.082829   \n",
              "3  0.846066  0.947744  0.082342  ...        0.727040        0.083062   \n",
              "4  0.846068  0.947785  0.082396  ...        0.727040        0.083375   \n",
              "\n",
              "   LeftLowerLeg_y  LeftLowerLeg_z  LeftFoot_x  LeftFoot_y  LeftFoot_z  \\\n",
              "0        0.863089        0.434136    0.082813    0.856869    0.083565   \n",
              "1        0.863019        0.433361    0.082802    0.856903    0.083192   \n",
              "2        0.862949        0.432576    0.082792    0.856938    0.082826   \n",
              "3        0.862838        0.431703    0.082779    0.856948    0.082562   \n",
              "4        0.862662        0.430733    0.082758    0.856914    0.082381   \n",
              "\n",
              "   LeftToe_x  LeftToe_y  LeftToe_z  \n",
              "0   0.106956   0.840893   0.023704  \n",
              "1   0.106972   0.840950   0.025200  \n",
              "2   0.106988   0.841006   0.026696  \n",
              "3   0.106997   0.841040   0.027954  \n",
              "4   0.106993   0.841034   0.028858  \n",
              "\n",
              "[5 rows x 69 columns]"
            ],
            "text/html": [
              "\n",
              "  <div id=\"df-2f2df2ba-a084-4444-964a-a2e16aa11b74\">\n",
              "    <div class=\"colab-df-container\">\n",
              "      <div>\n",
              "<style scoped>\n",
              "    .dataframe tbody tr th:only-of-type {\n",
              "        vertical-align: middle;\n",
              "    }\n",
              "\n",
              "    .dataframe tbody tr th {\n",
              "        vertical-align: top;\n",
              "    }\n",
              "\n",
              "    .dataframe thead th {\n",
              "        text-align: right;\n",
              "    }\n",
              "</style>\n",
              "<table border=\"1\" class=\"dataframe\">\n",
              "  <thead>\n",
              "    <tr style=\"text-align: right;\">\n",
              "      <th></th>\n",
              "      <th>Pelvis_x</th>\n",
              "      <th>Pelvis_y</th>\n",
              "      <th>Pelvis_z</th>\n",
              "      <th>L5_x</th>\n",
              "      <th>L5_y</th>\n",
              "      <th>L5_z</th>\n",
              "      <th>L3_x</th>\n",
              "      <th>L3_y</th>\n",
              "      <th>L3_z</th>\n",
              "      <th>T12_x</th>\n",
              "      <th>...</th>\n",
              "      <th>LeftUpperLeg_z</th>\n",
              "      <th>LeftLowerLeg_x</th>\n",
              "      <th>LeftLowerLeg_y</th>\n",
              "      <th>LeftLowerLeg_z</th>\n",
              "      <th>LeftFoot_x</th>\n",
              "      <th>LeftFoot_y</th>\n",
              "      <th>LeftFoot_z</th>\n",
              "      <th>LeftToe_x</th>\n",
              "      <th>LeftToe_y</th>\n",
              "      <th>LeftToe_z</th>\n",
              "    </tr>\n",
              "  </thead>\n",
              "  <tbody>\n",
              "    <tr>\n",
              "      <th>0</th>\n",
              "      <td>0.079830</td>\n",
              "      <td>0.864688</td>\n",
              "      <td>0.671853</td>\n",
              "      <td>0.079532</td>\n",
              "      <td>0.858807</td>\n",
              "      <td>0.854355</td>\n",
              "      <td>0.081614</td>\n",
              "      <td>0.846043</td>\n",
              "      <td>0.947130</td>\n",
              "      <td>0.082259</td>\n",
              "      <td>...</td>\n",
              "      <td>0.727127</td>\n",
              "      <td>0.082495</td>\n",
              "      <td>0.863089</td>\n",
              "      <td>0.434136</td>\n",
              "      <td>0.082813</td>\n",
              "      <td>0.856869</td>\n",
              "      <td>0.083565</td>\n",
              "      <td>0.106956</td>\n",
              "      <td>0.840893</td>\n",
              "      <td>0.023704</td>\n",
              "    </tr>\n",
              "    <tr>\n",
              "      <th>1</th>\n",
              "      <td>0.079842</td>\n",
              "      <td>0.864671</td>\n",
              "      <td>0.672392</td>\n",
              "      <td>0.079545</td>\n",
              "      <td>0.858803</td>\n",
              "      <td>0.854917</td>\n",
              "      <td>0.081632</td>\n",
              "      <td>0.846051</td>\n",
              "      <td>0.947364</td>\n",
              "      <td>0.082283</td>\n",
              "      <td>...</td>\n",
              "      <td>0.727115</td>\n",
              "      <td>0.082662</td>\n",
              "      <td>0.863019</td>\n",
              "      <td>0.433361</td>\n",
              "      <td>0.082802</td>\n",
              "      <td>0.856903</td>\n",
              "      <td>0.083192</td>\n",
              "      <td>0.106972</td>\n",
              "      <td>0.840950</td>\n",
              "      <td>0.025200</td>\n",
              "    </tr>\n",
              "    <tr>\n",
              "      <th>2</th>\n",
              "      <td>0.079854</td>\n",
              "      <td>0.864654</td>\n",
              "      <td>0.672943</td>\n",
              "      <td>0.079558</td>\n",
              "      <td>0.858798</td>\n",
              "      <td>0.855478</td>\n",
              "      <td>0.081650</td>\n",
              "      <td>0.846059</td>\n",
              "      <td>0.947598</td>\n",
              "      <td>0.082306</td>\n",
              "      <td>...</td>\n",
              "      <td>0.727090</td>\n",
              "      <td>0.082829</td>\n",
              "      <td>0.862949</td>\n",
              "      <td>0.432576</td>\n",
              "      <td>0.082792</td>\n",
              "      <td>0.856938</td>\n",
              "      <td>0.082826</td>\n",
              "      <td>0.106988</td>\n",
              "      <td>0.841006</td>\n",
              "      <td>0.026696</td>\n",
              "    </tr>\n",
              "    <tr>\n",
              "      <th>3</th>\n",
              "      <td>0.079881</td>\n",
              "      <td>0.864641</td>\n",
              "      <td>0.673283</td>\n",
              "      <td>0.079584</td>\n",
              "      <td>0.858794</td>\n",
              "      <td>0.855837</td>\n",
              "      <td>0.081680</td>\n",
              "      <td>0.846066</td>\n",
              "      <td>0.947744</td>\n",
              "      <td>0.082342</td>\n",
              "      <td>...</td>\n",
              "      <td>0.727040</td>\n",
              "      <td>0.083062</td>\n",
              "      <td>0.862838</td>\n",
              "      <td>0.431703</td>\n",
              "      <td>0.082779</td>\n",
              "      <td>0.856948</td>\n",
              "      <td>0.082562</td>\n",
              "      <td>0.106997</td>\n",
              "      <td>0.841040</td>\n",
              "      <td>0.027954</td>\n",
              "    </tr>\n",
              "    <tr>\n",
              "      <th>4</th>\n",
              "      <td>0.079930</td>\n",
              "      <td>0.864631</td>\n",
              "      <td>0.673401</td>\n",
              "      <td>0.079632</td>\n",
              "      <td>0.858787</td>\n",
              "      <td>0.855944</td>\n",
              "      <td>0.081730</td>\n",
              "      <td>0.846068</td>\n",
              "      <td>0.947785</td>\n",
              "      <td>0.082396</td>\n",
              "      <td>...</td>\n",
              "      <td>0.727040</td>\n",
              "      <td>0.083375</td>\n",
              "      <td>0.862662</td>\n",
              "      <td>0.430733</td>\n",
              "      <td>0.082758</td>\n",
              "      <td>0.856914</td>\n",
              "      <td>0.082381</td>\n",
              "      <td>0.106993</td>\n",
              "      <td>0.841034</td>\n",
              "      <td>0.028858</td>\n",
              "    </tr>\n",
              "  </tbody>\n",
              "</table>\n",
              "<p>5 rows × 69 columns</p>\n",
              "</div>\n",
              "      <button class=\"colab-df-convert\" onclick=\"convertToInteractive('df-2f2df2ba-a084-4444-964a-a2e16aa11b74')\"\n",
              "              title=\"Convert this dataframe to an interactive table.\"\n",
              "              style=\"display:none;\">\n",
              "        \n",
              "  <svg xmlns=\"http://www.w3.org/2000/svg\" height=\"24px\"viewBox=\"0 0 24 24\"\n",
              "       width=\"24px\">\n",
              "    <path d=\"M0 0h24v24H0V0z\" fill=\"none\"/>\n",
              "    <path d=\"M18.56 5.44l.94 2.06.94-2.06 2.06-.94-2.06-.94-.94-2.06-.94 2.06-2.06.94zm-11 1L8.5 8.5l.94-2.06 2.06-.94-2.06-.94L8.5 2.5l-.94 2.06-2.06.94zm10 10l.94 2.06.94-2.06 2.06-.94-2.06-.94-.94-2.06-.94 2.06-2.06.94z\"/><path d=\"M17.41 7.96l-1.37-1.37c-.4-.4-.92-.59-1.43-.59-.52 0-1.04.2-1.43.59L10.3 9.45l-7.72 7.72c-.78.78-.78 2.05 0 2.83L4 21.41c.39.39.9.59 1.41.59.51 0 1.02-.2 1.41-.59l7.78-7.78 2.81-2.81c.8-.78.8-2.07 0-2.86zM5.41 20L4 18.59l7.72-7.72 1.47 1.35L5.41 20z\"/>\n",
              "  </svg>\n",
              "      </button>\n",
              "      \n",
              "  <style>\n",
              "    .colab-df-container {\n",
              "      display:flex;\n",
              "      flex-wrap:wrap;\n",
              "      gap: 12px;\n",
              "    }\n",
              "\n",
              "    .colab-df-convert {\n",
              "      background-color: #E8F0FE;\n",
              "      border: none;\n",
              "      border-radius: 50%;\n",
              "      cursor: pointer;\n",
              "      display: none;\n",
              "      fill: #1967D2;\n",
              "      height: 32px;\n",
              "      padding: 0 0 0 0;\n",
              "      width: 32px;\n",
              "    }\n",
              "\n",
              "    .colab-df-convert:hover {\n",
              "      background-color: #E2EBFA;\n",
              "      box-shadow: 0px 1px 2px rgba(60, 64, 67, 0.3), 0px 1px 3px 1px rgba(60, 64, 67, 0.15);\n",
              "      fill: #174EA6;\n",
              "    }\n",
              "\n",
              "    [theme=dark] .colab-df-convert {\n",
              "      background-color: #3B4455;\n",
              "      fill: #D2E3FC;\n",
              "    }\n",
              "\n",
              "    [theme=dark] .colab-df-convert:hover {\n",
              "      background-color: #434B5C;\n",
              "      box-shadow: 0px 1px 3px 1px rgba(0, 0, 0, 0.15);\n",
              "      filter: drop-shadow(0px 1px 2px rgba(0, 0, 0, 0.3));\n",
              "      fill: #FFFFFF;\n",
              "    }\n",
              "  </style>\n",
              "\n",
              "      <script>\n",
              "        const buttonEl =\n",
              "          document.querySelector('#df-2f2df2ba-a084-4444-964a-a2e16aa11b74 button.colab-df-convert');\n",
              "        buttonEl.style.display =\n",
              "          google.colab.kernel.accessAllowed ? 'block' : 'none';\n",
              "\n",
              "        async function convertToInteractive(key) {\n",
              "          const element = document.querySelector('#df-2f2df2ba-a084-4444-964a-a2e16aa11b74');\n",
              "          const dataTable =\n",
              "            await google.colab.kernel.invokeFunction('convertToInteractive',\n",
              "                                                     [key], {});\n",
              "          if (!dataTable) return;\n",
              "\n",
              "          const docLinkHtml = 'Like what you see? Visit the ' +\n",
              "            '<a target=\"_blank\" href=https://colab.research.google.com/notebooks/data_table.ipynb>data table notebook</a>'\n",
              "            + ' to learn more about interactive tables.';\n",
              "          element.innerHTML = '';\n",
              "          dataTable['output_type'] = 'display_data';\n",
              "          await google.colab.output.renderOutput(dataTable, element);\n",
              "          const docLink = document.createElement('div');\n",
              "          docLink.innerHTML = docLinkHtml;\n",
              "          element.appendChild(docLink);\n",
              "        }\n",
              "      </script>\n",
              "    </div>\n",
              "  </div>\n",
              "  "
            ]
          },
          "metadata": {},
          "execution_count": 32
        }
      ]
    },
    {
      "cell_type": "code",
      "source": [
        "def import_data(dataframe, classe):\n",
        "  train_data = np.empty((0,69))\n",
        "  train_classe = np.empty((0,1))\n",
        "  for i in range(len(dataframe)):\n",
        "    train_data=np.concatenate((train_data,dataframe.iloc[[i]]))\n",
        "    train_classe=np.concatenate((train_classe,[[classe]]))\n",
        "  return train_data, train_classe"
      ],
      "metadata": {
        "id": "iq0HoY2myZvs"
      },
      "execution_count": null,
      "outputs": []
    },
    {
      "cell_type": "code",
      "source": [
        "x_pecking_data, y_pecking_data = import_data(peckinge_dataset,1)\n",
        "x_inventory_data, y_inventory_data = import_data(inventory_dataset,2)"
      ],
      "metadata": {
        "id": "bXtWW-42yfXN"
      },
      "execution_count": null,
      "outputs": []
    },
    {
      "cell_type": "code",
      "source": [
        "X = np.concatenate((x_pecking_data,x_inventory_data), axis = 0)\n",
        "y = np.concatenate((y_pecking_data,y_inventory_data), axis = 0)"
      ],
      "metadata": {
        "id": "1vSW5Or2yiDQ"
      },
      "execution_count": null,
      "outputs": []
    },
    {
      "cell_type": "code",
      "source": [
        "from sklearn.model_selection import train_test_split\n",
        "X_train, X_test, y_train, y_test = train_test_split(X, y, test_size=0.3, train_size=0.7, random_state=1)"
      ],
      "metadata": {
        "id": "5vjzSCbpykiK"
      },
      "execution_count": null,
      "outputs": []
    },
    {
      "cell_type": "code",
      "source": [
        "from sklearn.naive_bayes import GaussianNB\n",
        "from sklearn.metrics import (precision_score, recall_score, f1_score, accuracy_score, confusion_matrix)\n",
        "#fit the model with naive Bayes algorithm\n",
        "model_nb = GaussianNB()\n",
        "model_nb.fit(X_train, y_train)\n",
        "#Prédire les données de test\n",
        "y_pred_nb = model_nb.predict(X_test) "
      ],
      "metadata": {
        "colab": {
          "base_uri": "https://localhost:8080/"
        },
        "id": "L6SFTI9dysFv",
        "outputId": "5edbbb6c-3575-41fe-c573-f9290f79bc7b"
      },
      "execution_count": null,
      "outputs": [
        {
          "output_type": "stream",
          "name": "stderr",
          "text": [
            "/usr/local/lib/python3.8/dist-packages/sklearn/utils/validation.py:993: DataConversionWarning: A column-vector y was passed when a 1d array was expected. Please change the shape of y to (n_samples, ), for example using ravel().\n",
            "  y = column_or_1d(y, warn=True)\n"
          ]
        }
      ]
    },
    {
      "cell_type": "code",
      "source": [
        "#Import svm model\n",
        "from sklearn import svm\n",
        "\n",
        "#Create a svm Classifier\n",
        "clmodel_svm = svm.SVC(kernel='linear') # Linear Kernel\n",
        "\n",
        "#Train the model using the training sets\n",
        "clmodel_svm.fit(X_train, y_train)\n",
        "\n",
        "#Predict the response for test dataset\n",
        "y_pred_svm = clmodel_svm.predict(X_test)"
      ],
      "metadata": {
        "colab": {
          "base_uri": "https://localhost:8080/"
        },
        "id": "KnBzCUpdys8Q",
        "outputId": "2572a7c6-beb4-43b5-bd27-55d29a8a92b1"
      },
      "execution_count": null,
      "outputs": [
        {
          "output_type": "stream",
          "name": "stderr",
          "text": [
            "/usr/local/lib/python3.8/dist-packages/sklearn/utils/validation.py:993: DataConversionWarning: A column-vector y was passed when a 1d array was expected. Please change the shape of y to (n_samples, ), for example using ravel().\n",
            "  y = column_or_1d(y, warn=True)\n"
          ]
        }
      ]
    },
    {
      "cell_type": "code",
      "source": [
        "from sklearn.cluster import KMeans\n",
        "from sklearn import model_selection\n",
        "model_km = KMeans(2)\n",
        "#Entrainer le modéle K-means en utilisant X_train \n",
        "model_km.fit(X_train, y_train)\n",
        "#Cross validation 10_fold\n",
        "succes = model_selection.cross_val_score(model_km, X, y, cv=10,scoring='accuracy')\n",
        "print('Résultat : ', succes)\n",
        "#Prédire les données de test\n",
        "y_pred_km = model_km.predict(X_test) "
      ],
      "metadata": {
        "colab": {
          "base_uri": "https://localhost:8080/"
        },
        "id": "9jz9C_Ryy-Uq",
        "outputId": "24d528a0-4574-41f5-de3b-5969eb831a3b"
      },
      "execution_count": null,
      "outputs": [
        {
          "output_type": "stream",
          "name": "stdout",
          "text": [
            "Résultat :  [0.59310684 0.72427376 0.5783358  0.46371246 0.48133924 0.\n",
            " 0.         0.         0.         0.        ]\n"
          ]
        }
      ]
    },
    {
      "cell_type": "code",
      "source": [
        "from sklearn.neighbors import KNeighborsClassifier \n",
        "from sklearn import metrics\n",
        "from sklearn import model_selection\n",
        "model_knn = KNeighborsClassifier(10)\n",
        "# entrainer le modéle en utilisant X_train\n",
        "model_knn.fit(X_train, y_train)\n",
        "#10_fold Cross validation\n",
        "succes = model_selection.cross_val_score(model_knn, X, y, cv=10,scoring='accuracy')\n",
        "print('succes : ', succes)\n",
        "#evaluate the model\n",
        "y_pred_knn = model_knn.predict(X_test) "
      ],
      "metadata": {
        "colab": {
          "base_uri": "https://localhost:8080/"
        },
        "id": "RgEfgQqXzpGl",
        "outputId": "09dd8b62-7315-4c57-b0ea-b644f5ea1beb"
      },
      "execution_count": null,
      "outputs": [
        {
          "output_type": "stream",
          "name": "stderr",
          "text": [
            "/usr/local/lib/python3.8/dist-packages/sklearn/neighbors/_classification.py:198: DataConversionWarning: A column-vector y was passed when a 1d array was expected. Please change the shape of y to (n_samples,), for example using ravel().\n",
            "  return self._fit(X, y)\n",
            "/usr/local/lib/python3.8/dist-packages/sklearn/neighbors/_classification.py:198: DataConversionWarning: A column-vector y was passed when a 1d array was expected. Please change the shape of y to (n_samples,), for example using ravel().\n",
            "  return self._fit(X, y)\n",
            "/usr/local/lib/python3.8/dist-packages/sklearn/neighbors/_classification.py:198: DataConversionWarning: A column-vector y was passed when a 1d array was expected. Please change the shape of y to (n_samples,), for example using ravel().\n",
            "  return self._fit(X, y)\n",
            "/usr/local/lib/python3.8/dist-packages/sklearn/neighbors/_classification.py:198: DataConversionWarning: A column-vector y was passed when a 1d array was expected. Please change the shape of y to (n_samples,), for example using ravel().\n",
            "  return self._fit(X, y)\n",
            "/usr/local/lib/python3.8/dist-packages/sklearn/neighbors/_classification.py:198: DataConversionWarning: A column-vector y was passed when a 1d array was expected. Please change the shape of y to (n_samples,), for example using ravel().\n",
            "  return self._fit(X, y)\n",
            "/usr/local/lib/python3.8/dist-packages/sklearn/neighbors/_classification.py:198: DataConversionWarning: A column-vector y was passed when a 1d array was expected. Please change the shape of y to (n_samples,), for example using ravel().\n",
            "  return self._fit(X, y)\n",
            "/usr/local/lib/python3.8/dist-packages/sklearn/neighbors/_classification.py:198: DataConversionWarning: A column-vector y was passed when a 1d array was expected. Please change the shape of y to (n_samples,), for example using ravel().\n",
            "  return self._fit(X, y)\n",
            "/usr/local/lib/python3.8/dist-packages/sklearn/neighbors/_classification.py:198: DataConversionWarning: A column-vector y was passed when a 1d array was expected. Please change the shape of y to (n_samples,), for example using ravel().\n",
            "  return self._fit(X, y)\n",
            "/usr/local/lib/python3.8/dist-packages/sklearn/neighbors/_classification.py:198: DataConversionWarning: A column-vector y was passed when a 1d array was expected. Please change the shape of y to (n_samples,), for example using ravel().\n",
            "  return self._fit(X, y)\n",
            "/usr/local/lib/python3.8/dist-packages/sklearn/neighbors/_classification.py:198: DataConversionWarning: A column-vector y was passed when a 1d array was expected. Please change the shape of y to (n_samples,), for example using ravel().\n",
            "  return self._fit(X, y)\n",
            "/usr/local/lib/python3.8/dist-packages/sklearn/neighbors/_classification.py:198: DataConversionWarning: A column-vector y was passed when a 1d array was expected. Please change the shape of y to (n_samples,), for example using ravel().\n",
            "  return self._fit(X, y)\n"
          ]
        },
        {
          "output_type": "stream",
          "name": "stdout",
          "text": [
            "succes :  [0.98444116 0.95736091 0.90231413 0.96779911 0.80482521 0.7248646\n",
            " 0.78254875 0.92791018 0.96119756 0.85729762]\n"
          ]
        }
      ]
    },
    {
      "cell_type": "code",
      "source": [
        "import matplotlib.pyplot as plt\n",
        "import seaborn as sns\n",
        "\n",
        "def resultat(y_test, y_pred):\n",
        "  #Matrice de confusion\n",
        "  confusion_m= confusion_matrix(y_test, y_pred) \n",
        "  sns.heatmap(confusion_m,  cmap='Blues', annot=True)\n",
        "  print(\"Matrice de confusion \\n\", confusion_m) \n",
        "  acc = accuracy_score(y_test,y_pred) \n",
        "  print(\"Accuracy : \",acc)\n",
        "  #Precision\n",
        "  precision = precision_score(y_test,y_pred, pos_label='positive',average='micro')\n",
        "  print(\"precision : \",precision)\n",
        "  #Rappel\n",
        "  rappel = recall_score(y_test,y_pred,pos_label='positive',average='micro')\n",
        "  print(\"Rappel : \",rappel)\n",
        "  #F-mesure\n",
        "  f_mesure=f1_score(y_test, y_pred, labels=None, pos_label=1, average='micro',sample_weight=None,zero_division='warn') \n",
        "  print(\"f_mesure : \",f_mesure) \n"
      ],
      "metadata": {
        "id": "aPDvWUiHy1IV"
      },
      "execution_count": null,
      "outputs": []
    },
    {
      "cell_type": "code",
      "source": [
        "resultat(y_test, y_pred_nb)"
      ],
      "metadata": {
        "colab": {
          "base_uri": "https://localhost:8080/",
          "height": 476
        },
        "id": "52GPO_IRy5-c",
        "outputId": "f0aa4ee0-a96c-42d8-b7bf-eced36788df9"
      },
      "execution_count": null,
      "outputs": [
        {
          "output_type": "stream",
          "name": "stdout",
          "text": [
            "Matrice de confusion \n",
            " [[13374  1969]\n",
            " [ 2322 12799]]\n",
            "Accuracy :  0.8591452205882353\n",
            "precision :  0.8591452205882353\n",
            "Rappel :  0.8591452205882353\n",
            "f_mesure :  0.8591452205882353\n"
          ]
        },
        {
          "output_type": "stream",
          "name": "stderr",
          "text": [
            "/usr/local/lib/python3.8/dist-packages/sklearn/metrics/_classification.py:1370: UserWarning: Note that pos_label (set to 'positive') is ignored when average != 'binary' (got 'micro'). You may use labels=[pos_label] to specify a single positive class.\n",
            "  warnings.warn(\n",
            "/usr/local/lib/python3.8/dist-packages/sklearn/metrics/_classification.py:1370: UserWarning: Note that pos_label (set to 'positive') is ignored when average != 'binary' (got 'micro'). You may use labels=[pos_label] to specify a single positive class.\n",
            "  warnings.warn(\n"
          ]
        },
        {
          "output_type": "display_data",
          "data": {
            "text/plain": [
              "<Figure size 432x288 with 2 Axes>"
            ],
            "image/png": "[encoded data removed]"
          },
          "metadata": {
            "needs_background": "light"
          }
        }
      ]
    },
    {
      "cell_type": "code",
      "source": [
        "resultat(y_test, y_pred_km)"
      ],
      "metadata": {
        "colab": {
          "base_uri": "https://localhost:8080/",
          "height": 493
        },
        "id": "e2Tduo2zzA3l",
        "outputId": "89450dc5-a2fe-4ed0-c175-dc200ebc8a4f"
      },
      "execution_count": null,
      "outputs": [
        {
          "output_type": "stream",
          "name": "stdout",
          "text": [
            "Matrice de confusion \n",
            " [[   0    0    0]\n",
            " [6928 8415    0]\n",
            " [7545 7576    0]]\n",
            "Accuracy :  0.27622767857142855\n",
            "precision :  0.27622767857142855\n",
            "Rappel :  0.27622767857142855\n",
            "f_mesure :  0.27622767857142855\n"
          ]
        },
        {
          "output_type": "stream",
          "name": "stderr",
          "text": [
            "/usr/local/lib/python3.8/dist-packages/sklearn/metrics/_classification.py:1370: UserWarning: Note that pos_label (set to 'positive') is ignored when average != 'binary' (got 'micro'). You may use labels=[pos_label] to specify a single positive class.\n",
            "  warnings.warn(\n",
            "/usr/local/lib/python3.8/dist-packages/sklearn/metrics/_classification.py:1370: UserWarning: Note that pos_label (set to 'positive') is ignored when average != 'binary' (got 'micro'). You may use labels=[pos_label] to specify a single positive class.\n",
            "  warnings.warn(\n"
          ]
        },
        {
          "output_type": "display_data",
          "data": {
            "text/plain": [
              "<Figure size 432x288 with 2 Axes>"
            ],
            "image/png": "[encoded data removed]"
          },
          "metadata": {
            "needs_background": "light"
          }
        }
      ]
    },
    {
      "cell_type": "code",
      "source": [
        "resultat(y_test, y_pred_knn)"
      ],
      "metadata": {
        "colab": {
          "base_uri": "https://localhost:8080/",
          "height": 476
        },
        "id": "R1I3Tj-LzB3U",
        "outputId": "bfa59253-480f-469a-f94d-577e59d31226"
      },
      "execution_count": null,
      "outputs": [
        {
          "output_type": "stream",
          "name": "stdout",
          "text": [
            "Matrice de confusion \n",
            " [[15343     0]\n",
            " [   12 15109]]\n",
            "Accuracy :  0.9996060924369747\n",
            "precision :  0.9996060924369747\n",
            "Rappel :  0.9996060924369747\n",
            "f_mesure :  0.9996060924369747\n"
          ]
        },
        {
          "output_type": "stream",
          "name": "stderr",
          "text": [
            "/usr/local/lib/python3.8/dist-packages/sklearn/metrics/_classification.py:1370: UserWarning: Note that pos_label (set to 'positive') is ignored when average != 'binary' (got 'micro'). You may use labels=[pos_label] to specify a single positive class.\n",
            "  warnings.warn(\n",
            "/usr/local/lib/python3.8/dist-packages/sklearn/metrics/_classification.py:1370: UserWarning: Note that pos_label (set to 'positive') is ignored when average != 'binary' (got 'micro'). You may use labels=[pos_label] to specify a single positive class.\n",
            "  warnings.warn(\n"
          ]
        },
        {
          "output_type": "display_data",
          "data": {
            "text/plain": [
              "<Figure size 432x288 with 2 Axes>"
            ],
            "image/png": "[encoded data removed]"
          },
          "metadata": {
            "needs_background": "light"
          }
        }
      ]
    },
    {
      "cell_type": "code",
      "source": [
        "resultat(y_test, y_pred_svm)"
      ],
      "metadata": {
        "colab": {
          "base_uri": "https://localhost:8080/",
          "height": 476
        },
        "id": "5VwNquww0OeU",
        "outputId": "299fc6fa-a1ef-4185-da14-3208f3fc0754"
      },
      "execution_count": null,
      "outputs": [
        {
          "output_type": "stream",
          "name": "stdout",
          "text": [
            "Matrice de confusion \n",
            " [[15308    35]\n",
            " [  141 14980]]\n",
            "Accuracy :  0.9942226890756303\n",
            "precision :  0.9942226890756303\n",
            "Rappel :  0.9942226890756303\n",
            "f_mesure :  0.9942226890756303\n"
          ]
        },
        {
          "output_type": "stream",
          "name": "stderr",
          "text": [
            "/usr/local/lib/python3.8/dist-packages/sklearn/metrics/_classification.py:1370: UserWarning: Note that pos_label (set to 'positive') is ignored when average != 'binary' (got 'micro'). You may use labels=[pos_label] to specify a single positive class.\n",
            "  warnings.warn(\n",
            "/usr/local/lib/python3.8/dist-packages/sklearn/metrics/_classification.py:1370: UserWarning: Note that pos_label (set to 'positive') is ignored when average != 'binary' (got 'micro'). You may use labels=[pos_label] to specify a single positive class.\n",
            "  warnings.warn(\n"
          ]
        },
        {
          "output_type": "display_data",
          "data": {
            "text/plain": [
              "<Figure size 432x288 with 2 Axes>"
            ],
            "image/png": "[encoded data removed]"
          },
          "metadata": {
            "needs_background": "light"
          }
        }
      ]
    },
    {
      "cell_type": "code",
      "source": [],
      "metadata": {
        "id": "QuxyyLY-PEFS"
      },
      "execution_count": null,
      "outputs": []
    }
  ]
}