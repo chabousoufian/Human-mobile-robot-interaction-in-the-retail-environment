{
  "nbformat": 4,
  "nbformat_minor": 0,
  "metadata": {
    "colab": {
      "provenance": []
    },
    "kernelspec": {
      "name": "python3",
      "display_name": "Python 3"
    },
    "language_info": {
      "name": "python"
    }
  },
  "cells": [
    {
      "cell_type": "code",
      "execution_count": null,
      "metadata": {
        "id": "42W9oZwysP6V"
      },
      "outputs": [],
      "source": [
        "import pandas as pd\n",
        "import numpy as np"
      ]
    },
    {
      "cell_type": "code",
      "source": [
        "inventory_dataset = pd.read_csv(\"inventory_dataset.csv\")\n",
        "peckinge_dataset = pd.read_csv(\"peckinge_dataset.csv\")\n",
        "inventory_dataset_with_robot= pd.read_csv(\"inventory_dataset_with_robot.csv\")\n",
        "peckinge_dataset_with_robot= pd.read_csv(\"peckinge_dataset_with_robot.csv\")"
      ],
      "metadata": {
        "id": "lb1y0DhosVaw"
      },
      "execution_count": null,
      "outputs": []
    },
    {
      "cell_type": "markdown",
      "source": [
        "# prepares la clasification des données"
      ],
      "metadata": {
        "id": "RqnuQ8qrthdg"
      }
    },
    {
      "cell_type": "code",
      "source": [
        "def import_data(dataframe, classe):\n",
        "  train_data = np.empty((0,69))\n",
        "  train_classe = np.empty((0,1))\n",
        "  for i in range(len(dataframe)):\n",
        "    train_data=np.concatenate((train_data,dataframe.iloc[[i]]))\n",
        "    train_classe=np.concatenate((train_classe,[[classe]]))\n",
        "  return train_data, train_classe"
      ],
      "metadata": {
        "id": "iBj4nv2XtdwZ"
      },
      "execution_count": null,
      "outputs": []
    },
    {
      "cell_type": "code",
      "source": [
        "x_pecking_data, y_pecking_data = import_data(peckinge_dataset,1)\n",
        "x_inventory_data, y_inventory_data = import_data(inventory_dataset,3)\n",
        "x_peckinge_dataset_with_robot, y_peckinge_dataset_with_robot = import_data(peckinge_dataset_with_robot,2)\n",
        "x_inventory_dataset_with_robot, y_inventory_dataset_with_robot = import_data(inventory_dataset_with_robot,4)"
      ],
      "metadata": {
        "id": "BDPAS25Ats1G"
      },
      "execution_count": null,
      "outputs": []
    },
    {
      "cell_type": "code",
      "source": [
        "X = np.concatenate((x_pecking_data,x_inventory_data,x_peckinge_dataset_with_robot,x_inventory_dataset_with_robot), axis = 0)\n",
        "y = np.concatenate((y_pecking_data,y_inventory_data,y_peckinge_dataset_with_robot,y_inventory_dataset_with_robot), axis = 0)"
      ],
      "metadata": {
        "id": "spU2eWZGuDYi"
      },
      "execution_count": null,
      "outputs": []
    },
    {
      "cell_type": "code",
      "source": [
        "from sklearn.model_selection import train_test_split\n",
        "X_train, X_test, y_train, y_test = train_test_split(X, y, test_size=0.3, train_size=0.7, random_state=1)"
      ],
      "metadata": {
        "id": "qGReBq5KuPpB"
      },
      "execution_count": null,
      "outputs": []
    },
    {
      "cell_type": "code",
      "source": [
        "from sklearn.naive_bayes import GaussianNB\n",
        "from sklearn.metrics import (precision_score, recall_score, f1_score, accuracy_score, confusion_matrix)\n",
        "#fit the model with naive Bayes algorithm\n",
        "model_nb = GaussianNB()\n",
        "model_nb.fit(X_train, y_train)\n",
        "#Prédire les données de test\n",
        "y_pred_nb = model_nb.predict(X_test) "
      ],
      "metadata": {
        "colab": {
          "base_uri": "https://localhost:8080/"
        },
        "id": "1W38tjk4uSH5",
        "outputId": "a017656a-9008-4826-c52f-60913e106431"
      },
      "execution_count": null,
      "outputs": [
        {
          "output_type": "stream",
          "name": "stderr",
          "text": [
            "/usr/local/lib/python3.8/dist-packages/sklearn/utils/validation.py:993: DataConversionWarning: A column-vector y was passed when a 1d array was expected. Please change the shape of y to (n_samples, ), for example using ravel().\n",
            "  y = column_or_1d(y, warn=True)\n"
          ]
        }
      ]
    },
    {
      "cell_type": "code",
      "source": [
        "#Import svm model\n",
        "from sklearn import svm\n",
        "\n",
        "#Create a svm Classifier\n",
        "model_svn = svm.SVC(kernel='linear') # Linear Kernel\n",
        "\n",
        "#Train the model using the training sets\n",
        "model_svn.fit(X_train, y_train)\n",
        "\n",
        "#Predict the response for test dataset\n",
        "y_pred = model_svn.predict(X_test)"
      ],
      "metadata": {
        "colab": {
          "base_uri": "https://localhost:8080/"
        },
        "id": "vVRJUh5DuXEp",
        "outputId": "84a82e60-9336-47f7-8461-f8230c91fffd"
      },
      "execution_count": null,
      "outputs": [
        {
          "output_type": "stream",
          "name": "stderr",
          "text": [
            "/usr/local/lib/python3.8/dist-packages/sklearn/utils/validation.py:993: DataConversionWarning: A column-vector y was passed when a 1d array was expected. Please change the shape of y to (n_samples, ), for example using ravel().\n",
            "  y = column_or_1d(y, warn=True)\n"
          ]
        }
      ]
    },
    {
      "cell_type": "code",
      "source": [
        "def preprosess_data(dataframe):\n",
        "  train_data = np.empty((0,69))\n",
        "  for i in range(len(dataframe)):\n",
        "    train_data=np.concatenate((train_data,dataframe.iloc[[i]]))\n",
        "  return train_data"
      ],
      "metadata": {
        "id": "Azi0OqByud4O"
      },
      "execution_count": null,
      "outputs": []
    },
    {
      "cell_type": "code",
      "source": [
        "def clasification(X):\n",
        "  y_pred_nb = model_nb.predict(X)\n",
        "  # Convert the predictions to a 1D array of class indices\n",
        "  predictions = y_pred_nb.astype('int')\n",
        "  # Get the class with the majority of occurrences\n",
        "  majority_class = np.bincount(predictions).argmax()\n",
        "  if(majority_class == 1):\n",
        "    return \"sorting and pecking\"\n",
        "  elif(majority_class == 2):\n",
        "    return \"sorting and pecking with robot\" \n",
        "  elif(majority_class == 3):\n",
        "    return \"inventory checking\" \n",
        "  elif(majority_class == 4):\n",
        "    return \"inventory checking with robot\" "
      ],
      "metadata": {
        "id": "ahegX67Lukoy"
      },
      "execution_count": null,
      "outputs": []
    },
    {
      "cell_type": "code",
      "source": [
        "import matplotlib.pyplot as plt\n",
        "import seaborn as sns\n",
        "\n",
        "def visualisier_resultat(y_test, y_pred):\n",
        "  #Evaluer le modele : Matrice de confusion\n",
        "  confusion_m= confusion_matrix(y_test, y_pred)\n",
        "  sns.heatmap(confusion_m,  cmap='Blues', annot=True) \n",
        "  print(\"Matrice de confusion \\n\", confusion_m) #Evaluer le modele : Accuracy\n",
        "  acc = accuracy_score(y_test,y_pred) \n",
        "  print(\"Accuracy : \",acc)\n",
        "  #Precision\n",
        "  precision = precision_score(y_test,y_pred, pos_label='positive',average='micro')\n",
        "  print(\"precision : \",precision)\n",
        "  #Rappel\n",
        "  rappel = recall_score(y_test,y_pred,pos_label='positive',average='micro')\n",
        "  print(\"Rappel : \",rappel)\n",
        "  #F-mesure\n",
        "  f_mesure=f1_score(y_test, y_pred, labels=None, pos_label=1, average='micro',sample_weight=None,zero_division='warn') \n",
        "  print(\"f_mesure : \",f_mesure) #Graphiquement K-means\n"
      ],
      "metadata": {
        "id": "e2WMaNqZu4eu"
      },
      "execution_count": null,
      "outputs": []
    },
    {
      "cell_type": "code",
      "source": [
        "visualisier_resultat(y_test, y_pred_nb)"
      ],
      "metadata": {
        "colab": {
          "base_uri": "https://localhost:8080/",
          "height": 510
        },
        "id": "n10PGeFZvEzd",
        "outputId": "d6c2007a-5272-4d07-9f6d-52409a186e71"
      },
      "execution_count": null,
      "outputs": [
        {
          "output_type": "stream",
          "name": "stdout",
          "text": [
            "Matrice de confusion \n",
            " [[11053  1368   870  2016]\n",
            " [ 5246  3100   956  2689]\n",
            " [  471  2544  6582  5584]\n",
            " [  994  2033  4172  5909]]\n",
            "Accuracy :  0.4793207044812636\n",
            "precision :  0.4793207044812636\n",
            "Rappel :  0.4793207044812636\n",
            "f_mesure :  0.4793207044812636\n"
          ]
        },
        {
          "output_type": "stream",
          "name": "stderr",
          "text": [
            "/usr/local/lib/python3.8/dist-packages/sklearn/metrics/_classification.py:1370: UserWarning: Note that pos_label (set to 'positive') is ignored when average != 'binary' (got 'micro'). You may use labels=[pos_label] to specify a single positive class.\n",
            "  warnings.warn(\n",
            "/usr/local/lib/python3.8/dist-packages/sklearn/metrics/_classification.py:1370: UserWarning: Note that pos_label (set to 'positive') is ignored when average != 'binary' (got 'micro'). You may use labels=[pos_label] to specify a single positive class.\n",
            "  warnings.warn(\n"
          ]
        },
        {
          "output_type": "display_data",
          "data": {
            "text/plain": [
              "<Figure size 432x288 with 2 Axes>"
            ],
            "image/png": "[encoded data removed]"
          },
          "metadata": {
            "needs_background": "light"
          }
        }
      ]
    },
    {
      "cell_type": "code",
      "source": [
        "df_sorting = pd.read_excel(\"P006_006.xlsx\")\n",
        "df_inventory = pd.read_excel(\"P006_014.xlsx\")\n",
        "df_P7_13_inv = pd.read_excel(\"P007_013.xlsx\")\n",
        "df_P008_007_sort = pd.read_excel(\"P008_007.xlsx\")\n",
        "df_P56sr = pd.read_excel(\"P005_006.xlsx\")\n",
        "df_P57sr = pd.read_excel(\"P005_007.xlsx\")\n",
        "df_P514ir = pd.read_excel(\"P005_014.xlsx\")"
      ],
      "metadata": {
        "id": "BfL665JUwr2L"
      },
      "execution_count": null,
      "outputs": []
    },
    {
      "cell_type": "code",
      "source": [
        "# Normalization\n",
        "def Normalization(df):\n",
        "\n",
        "  List = list(df)\n",
        "  for i in List:\n",
        "    max = df[i].max()\n",
        "    min = df[i].min()\n",
        "    for j in range(len(df[i])):\n",
        "      df[i].iloc[j] = (df[i].iloc[j]-min)/(max-min)\n",
        "  return df"
      ],
      "metadata": {
        "id": "WyFnm_Wixzbf"
      },
      "execution_count": null,
      "outputs": []
    },
    {
      "cell_type": "code",
      "source": [
        "df_sorting = Normalization(df_sorting)\n",
        "df_inventory =Normalization(df_inventory)\n",
        "df_P7_13_inv = Normalization(df_P7_13_inv)\n",
        "df_P008_007_sort = Normalization(df_P008_007_sort)\n",
        "df_P56sr = Normalization(df_P56sr)\n",
        "df_P57sr = Normalization(df_P57sr)\n",
        "df_P514ir = Normalization(df_P514ir)"
      ],
      "metadata": {
        "colab": {
          "base_uri": "https://localhost:8080/"
        },
        "id": "q9N7LdB5xpPV",
        "outputId": "c6390805-4508-4a10-f532-78e781cad73c"
      },
      "execution_count": null,
      "outputs": [
        {
          "output_type": "stream",
          "name": "stderr",
          "text": [
            "/usr/local/lib/python3.8/dist-packages/pandas/core/indexing.py:1732: SettingWithCopyWarning: \n",
            "A value is trying to be set on a copy of a slice from a DataFrame\n",
            "\n",
            "See the caveats in the documentation: https://pandas.pydata.org/pandas-docs/stable/user_guide/indexing.html#returning-a-view-versus-a-copy\n",
            "  self._setitem_single_block(indexer, value, name)\n"
          ]
        }
      ]
    },
    {
      "cell_type": "code",
      "source": [
        "del df_sorting['Timestamp']\n",
        "del df_inventory['Timestamp']\n",
        "del df_P7_13_inv['Timestamp']\n",
        "del df_P008_007_sort['Timestamp']\n",
        "del df_P56sr['Timestamp']\n",
        "del df_P57sr['Timestamp']\n",
        "del df_P514ir['Timestamp']"
      ],
      "metadata": {
        "id": "W2TpRkw9yV0a"
      },
      "execution_count": null,
      "outputs": []
    },
    {
      "cell_type": "code",
      "source": [
        "df_sorting = preprosess_data(df_sorting)\n",
        "df_inventory =preprosess_data(df_inventory)\n",
        "df_P7_13_inv = preprosess_data(df_P7_13_inv)\n",
        "df_P008_007_sort = preprosess_data(df_P008_007_sort)\n",
        "df_P56sr = preprosess_data(df_P56sr)\n",
        "df_P57sr = preprosess_data(df_P57sr)\n",
        "df_P514ir = preprosess_data(df_P514ir)"
      ],
      "metadata": {
        "id": "h8pnndwHyw04"
      },
      "execution_count": null,
      "outputs": []
    },
    {
      "cell_type": "code",
      "source": [
        "print(clasification(df_sorting))\n",
        "print(clasification(df_inventory))\n",
        "print(clasification(df_P7_13_inv))\n",
        "print(clasification(df_P008_007_sort))\n",
        "print(clasification(df_P56sr))\n",
        "print(clasification(df_P57sr))\n",
        "print(clasification(df_P514ir))\n"
      ],
      "metadata": {
        "colab": {
          "base_uri": "https://localhost:8080/"
        },
        "id": "EIA_zaBUzlec",
        "outputId": "c54b5a17-d472-4149-934f-2d940b62db5b"
      },
      "execution_count": null,
      "outputs": [
        {
          "output_type": "stream",
          "name": "stdout",
          "text": [
            "sorting and pecking with robot\n",
            "inventory checking with robot\n",
            "inventory checking with robot\n",
            "sorting and pecking\n",
            "sorting and pecking\n",
            "sorting and pecking with robot\n",
            "inventory checking\n"
          ]
        }
      ]
    },
    {
      "cell_type": "code",
      "source": [
        "import matplotlib.pyplot as plt\n",
        "import seaborn as sns\n",
        "\n",
        "def visualisier(y_test, y_pred):\n",
        "  #Evaluer le modele : Matrice de confusion\n",
        "  confusion_m= confusion_matrix(y_test, y_pred) \n",
        "  sns.heatmap(confusion_m,  cmap='Blues', annot=True)\n",
        "  print(\"Matrice de confusion \\n\", confusion_m) #Evaluer le modele : Accuracy\n",
        "  acc = accuracy_score(y_test,y_pred) \n",
        "  print(\"Accuracy : \",acc)\n",
        "  #Precision\n",
        "  precision = precision_score(y_test,y_pred, pos_label='positive',average='micro')\n",
        "  print(\"precision : \",precision)\n",
        "  #Rappel\n",
        "  rappel = recall_score(y_test,y_pred,pos_label='positive',average='micro')\n",
        "  print(\"Rappel : \",rappel)\n",
        "  #F-mesure\n",
        "  f_mesure=f1_score(y_test, y_pred, labels=None, pos_label=1, average='micro',sample_weight=None,zero_division='warn') \n",
        "  print(\"f_mesure : \",f_mesure) #Graphiquement K-means"
      ],
      "metadata": {
        "id": "Z4dobVDC8vEZ"
      },
      "execution_count": null,
      "outputs": []
    },
    {
      "cell_type": "code",
      "source": [
        "visualisier_resultat(y_test, y_pred)"
      ],
      "metadata": {
        "colab": {
          "base_uri": "https://localhost:8080/",
          "height": 510
        },
        "id": "b-rCMq-H9A4a",
        "outputId": "e3aae012-c659-437a-9f51-c175337911a5"
      },
      "execution_count": null,
      "outputs": [
        {
          "output_type": "stream",
          "name": "stdout",
          "text": [
            "Matrice de confusion \n",
            " [[15031   221    24    31]\n",
            " [  679 10978   172   162]\n",
            " [  120   205 14366   490]\n",
            " [  112    88   335 12573]]\n",
            "Accuracy :  0.9525248709230576\n",
            "precision :  0.9525248709230576\n",
            "Rappel :  0.9525248709230576\n",
            "f_mesure :  0.9525248709230576\n"
          ]
        },
        {
          "output_type": "stream",
          "name": "stderr",
          "text": [
            "/usr/local/lib/python3.8/dist-packages/sklearn/metrics/_classification.py:1370: UserWarning: Note that pos_label (set to 'positive') is ignored when average != 'binary' (got 'micro'). You may use labels=[pos_label] to specify a single positive class.\n",
            "  warnings.warn(\n",
            "/usr/local/lib/python3.8/dist-packages/sklearn/metrics/_classification.py:1370: UserWarning: Note that pos_label (set to 'positive') is ignored when average != 'binary' (got 'micro'). You may use labels=[pos_label] to specify a single positive class.\n",
            "  warnings.warn(\n"
          ]
        },
        {
          "output_type": "display_data",
          "data": {
            "text/plain": [
              "<Figure size 432x288 with 2 Axes>"
            ],
            "image/png": "[encoded data removed]"
          },
          "metadata": {
            "needs_background": "light"
          }
        }
      ]
    },
    {
      "cell_type": "code",
      "source": [
        "def clasification_svn(X):\n",
        "  y_pred_nb = model_svn.predict(X)\n",
        "  # Convert the predictions to a 1D array of class indices\n",
        "  predictions = y_pred_nb.astype('int')\n",
        "  # Get the class with the majority of occurrences\n",
        "  majority_class = np.bincount(predictions).argmax()\n",
        "  if(majority_class == 1):\n",
        "    return \"sorting and pecking\"\n",
        "  elif(majority_class == 2):\n",
        "    return \"sorting and pecking with robot\" \n",
        "  elif(majority_class == 3):\n",
        "    return \"inventory checking\" \n",
        "  elif(majority_class == 4):\n",
        "    return \"inventory checking with robot\" "
      ],
      "metadata": {
        "id": "p3EWjiz74SwA"
      },
      "execution_count": null,
      "outputs": []
    },
    {
      "cell_type": "code",
      "source": [
        "print(clasification_svn(df_sorting))\n",
        "print(clasification_svn(df_inventory))\n",
        "print(clasification_svn(df_P7_13_inv))\n",
        "print(clasification_svn(df_P008_007_sort))\n",
        "print(clasification_svn(df_P56sr))\n",
        "print(clasification_svn(df_P57sr))\n",
        "print(clasification_svn(df_P514ir))\n"
      ],
      "metadata": {
        "colab": {
          "base_uri": "https://localhost:8080/"
        },
        "id": "HJJW6n2a9Lyb",
        "outputId": "792470a3-d1f1-48ae-e62d-c01041eb7673"
      },
      "execution_count": null,
      "outputs": [
        {
          "output_type": "stream",
          "name": "stdout",
          "text": [
            "sorting and pecking\n",
            "inventory checking with robot\n",
            "inventory checking\n",
            "sorting and pecking\n",
            "inventory checking with robot\n",
            "sorting and pecking with robot\n",
            "sorting and pecking\n"
          ]
        }
      ]
    },
    {
      "cell_type": "code",
      "source": [],
      "metadata": {
        "id": "Qyq9OyzT9SzR"
      },
      "execution_count": null,
      "outputs": []
    }
  ]
}