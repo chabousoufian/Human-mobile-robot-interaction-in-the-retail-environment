{
  "nbformat": 4,
  "nbformat_minor": 0,
  "metadata": {
    "colab": {
      "provenance": []
    },
    "kernelspec": {
      "name": "python3",
      "display_name": "Python 3"
    },
    "language_info": {
      "name": "python"
    }
  },
  "cells": [
    {
      "cell_type": "code",
      "execution_count": null,
      "metadata": {
        "id": "_MsQbu2vj9LO"
      },
      "outputs": [],
      "source": [
        "import pandas as pd\n",
        "import numpy as np"
      ]
    },
    {
      "cell_type": "code",
      "source": [
        "inventory_dataset = pd.read_csv(\"inventory_dataset.csv\")\n",
        "peckinge_dataset = pd.read_csv(\"peckinge_dataset.csv\")"
      ],
      "metadata": {
        "id": "-DatcRYRkDta"
      },
      "execution_count": null,
      "outputs": []
    },
    {
      "cell_type": "code",
      "source": [
        "inventory_dataset.head()"
      ],
      "metadata": {
        "id": "Pwx6Q_q_kdLv",
        "colab": {
          "base_uri": "https://localhost:8080/",
          "height": 300
        },
        "outputId": "5c0fc1c2-14b9-4d7d-bf22-2b6cf9b36343"
      },
      "execution_count": null,
      "outputs": [
        {
          "output_type": "execute_result",
          "data": {
            "text/plain": [
              "   Pelvis_x  Pelvis_y  Pelvis_z      L5_x      L5_y      L5_z      L3_x  \\\n",
              "0  0.068014  0.749467  0.951387  0.065755  0.743763  0.945656  0.063246   \n",
              "1  0.068135  0.749473  0.951040  0.065880  0.743810  0.945408  0.063359   \n",
              "2  0.068255  0.749479  0.950695  0.066004  0.743856  0.945163  0.063472   \n",
              "3  0.068372  0.749498  0.950405  0.066123  0.743910  0.944954  0.063579   \n",
              "4  0.068483  0.749534  0.950214  0.066230  0.743972  0.944811  0.063675   \n",
              "\n",
              "       L3_y      L3_z     T12_x  ...  LeftUpperLeg_z  LeftLowerLeg_x  \\\n",
              "0  0.740317  0.945693  0.060844  ...        0.968319        0.067335   \n",
              "1  0.740397  0.945457  0.060938  ...        0.967726        0.067459   \n",
              "2  0.740477  0.945221  0.061032  ...        0.967135        0.067584   \n",
              "3  0.740559  0.945020  0.061122  ...        0.966642        0.067715   \n",
              "4  0.740645  0.944881  0.061204  ...        0.966310        0.067855   \n",
              "\n",
              "   LeftLowerLeg_y  LeftLowerLeg_z  LeftFoot_x  LeftFoot_y  LeftFoot_z  \\\n",
              "0        0.773283        0.845203    0.081444    0.783253    0.080349   \n",
              "1        0.773427        0.843701    0.081471    0.783361    0.078390   \n",
              "2        0.773572        0.842200    0.081498    0.783469    0.076438   \n",
              "3        0.773705        0.840949    0.081513    0.783550    0.074852   \n",
              "4        0.773822        0.840103    0.081506    0.783587    0.073853   \n",
              "\n",
              "   LeftToe_x  LeftToe_y  LeftToe_z  \n",
              "0   0.098845   0.769303   0.083381  \n",
              "1   0.098871   0.769416   0.081280  \n",
              "2   0.098897   0.769530   0.079179  \n",
              "3   0.098914   0.769617   0.077657  \n",
              "4   0.098914   0.769664   0.077100  \n",
              "\n",
              "[5 rows x 69 columns]"
            ],
            "text/html": [
              "\n",
              "  <div id=\"df-c993aa1e-97e4-4603-918a-50b82d3867cc\">\n",
              "    <div class=\"colab-df-container\">\n",
              "      <div>\n",
              "<style scoped>\n",
              "    .dataframe tbody tr th:only-of-type {\n",
              "        vertical-align: middle;\n",
              "    }\n",
              "\n",
              "    .dataframe tbody tr th {\n",
              "        vertical-align: top;\n",
              "    }\n",
              "\n",
              "    .dataframe thead th {\n",
              "        text-align: right;\n",
              "    }\n",
              "</style>\n",
              "<table border=\"1\" class=\"dataframe\">\n",
              "  <thead>\n",
              "    <tr style=\"text-align: right;\">\n",
              "      <th></th>\n",
              "      <th>Pelvis_x</th>\n",
              "      <th>Pelvis_y</th>\n",
              "      <th>Pelvis_z</th>\n",
              "      <th>L5_x</th>\n",
              "      <th>L5_y</th>\n",
              "      <th>L5_z</th>\n",
              "      <th>L3_x</th>\n",
              "      <th>L3_y</th>\n",
              "      <th>L3_z</th>\n",
              "      <th>T12_x</th>\n",
              "      <th>...</th>\n",
              "      <th>LeftUpperLeg_z</th>\n",
              "      <th>LeftLowerLeg_x</th>\n",
              "      <th>LeftLowerLeg_y</th>\n",
              "      <th>LeftLowerLeg_z</th>\n",
              "      <th>LeftFoot_x</th>\n",
              "      <th>LeftFoot_y</th>\n",
              "      <th>LeftFoot_z</th>\n",
              "      <th>LeftToe_x</th>\n",
              "      <th>LeftToe_y</th>\n",
              "      <th>LeftToe_z</th>\n",
              "    </tr>\n",
              "  </thead>\n",
              "  <tbody>\n",
              "    <tr>\n",
              "      <th>0</th>\n",
              "      <td>0.068014</td>\n",
              "      <td>0.749467</td>\n",
              "      <td>0.951387</td>\n",
              "      <td>0.065755</td>\n",
              "      <td>0.743763</td>\n",
              "      <td>0.945656</td>\n",
              "      <td>0.063246</td>\n",
              "      <td>0.740317</td>\n",
              "      <td>0.945693</td>\n",
              "      <td>0.060844</td>\n",
              "      <td>...</td>\n",
              "      <td>0.968319</td>\n",
              "      <td>0.067335</td>\n",
              "      <td>0.773283</td>\n",
              "      <td>0.845203</td>\n",
              "      <td>0.081444</td>\n",
              "      <td>0.783253</td>\n",
              "      <td>0.080349</td>\n",
              "      <td>0.098845</td>\n",
              "      <td>0.769303</td>\n",
              "      <td>0.083381</td>\n",
              "    </tr>\n",
              "    <tr>\n",
              "      <th>1</th>\n",
              "      <td>0.068135</td>\n",
              "      <td>0.749473</td>\n",
              "      <td>0.951040</td>\n",
              "      <td>0.065880</td>\n",
              "      <td>0.743810</td>\n",
              "      <td>0.945408</td>\n",
              "      <td>0.063359</td>\n",
              "      <td>0.740397</td>\n",
              "      <td>0.945457</td>\n",
              "      <td>0.060938</td>\n",
              "      <td>...</td>\n",
              "      <td>0.967726</td>\n",
              "      <td>0.067459</td>\n",
              "      <td>0.773427</td>\n",
              "      <td>0.843701</td>\n",
              "      <td>0.081471</td>\n",
              "      <td>0.783361</td>\n",
              "      <td>0.078390</td>\n",
              "      <td>0.098871</td>\n",
              "      <td>0.769416</td>\n",
              "      <td>0.081280</td>\n",
              "    </tr>\n",
              "    <tr>\n",
              "      <th>2</th>\n",
              "      <td>0.068255</td>\n",
              "      <td>0.749479</td>\n",
              "      <td>0.950695</td>\n",
              "      <td>0.066004</td>\n",
              "      <td>0.743856</td>\n",
              "      <td>0.945163</td>\n",
              "      <td>0.063472</td>\n",
              "      <td>0.740477</td>\n",
              "      <td>0.945221</td>\n",
              "      <td>0.061032</td>\n",
              "      <td>...</td>\n",
              "      <td>0.967135</td>\n",
              "      <td>0.067584</td>\n",
              "      <td>0.773572</td>\n",
              "      <td>0.842200</td>\n",
              "      <td>0.081498</td>\n",
              "      <td>0.783469</td>\n",
              "      <td>0.076438</td>\n",
              "      <td>0.098897</td>\n",
              "      <td>0.769530</td>\n",
              "      <td>0.079179</td>\n",
              "    </tr>\n",
              "    <tr>\n",
              "      <th>3</th>\n",
              "      <td>0.068372</td>\n",
              "      <td>0.749498</td>\n",
              "      <td>0.950405</td>\n",
              "      <td>0.066123</td>\n",
              "      <td>0.743910</td>\n",
              "      <td>0.944954</td>\n",
              "      <td>0.063579</td>\n",
              "      <td>0.740559</td>\n",
              "      <td>0.945020</td>\n",
              "      <td>0.061122</td>\n",
              "      <td>...</td>\n",
              "      <td>0.966642</td>\n",
              "      <td>0.067715</td>\n",
              "      <td>0.773705</td>\n",
              "      <td>0.840949</td>\n",
              "      <td>0.081513</td>\n",
              "      <td>0.783550</td>\n",
              "      <td>0.074852</td>\n",
              "      <td>0.098914</td>\n",
              "      <td>0.769617</td>\n",
              "      <td>0.077657</td>\n",
              "    </tr>\n",
              "    <tr>\n",
              "      <th>4</th>\n",
              "      <td>0.068483</td>\n",
              "      <td>0.749534</td>\n",
              "      <td>0.950214</td>\n",
              "      <td>0.066230</td>\n",
              "      <td>0.743972</td>\n",
              "      <td>0.944811</td>\n",
              "      <td>0.063675</td>\n",
              "      <td>0.740645</td>\n",
              "      <td>0.944881</td>\n",
              "      <td>0.061204</td>\n",
              "      <td>...</td>\n",
              "      <td>0.966310</td>\n",
              "      <td>0.067855</td>\n",
              "      <td>0.773822</td>\n",
              "      <td>0.840103</td>\n",
              "      <td>0.081506</td>\n",
              "      <td>0.783587</td>\n",
              "      <td>0.073853</td>\n",
              "      <td>0.098914</td>\n",
              "      <td>0.769664</td>\n",
              "      <td>0.077100</td>\n",
              "    </tr>\n",
              "  </tbody>\n",
              "</table>\n",
              "<p>5 rows × 69 columns</p>\n",
              "</div>\n",
              "      <button class=\"colab-df-convert\" onclick=\"convertToInteractive('df-c993aa1e-97e4-4603-918a-50b82d3867cc')\"\n",
              "              title=\"Convert this dataframe to an interactive table.\"\n",
              "              style=\"display:none;\">\n",
              "        \n",
              "  <svg xmlns=\"http://www.w3.org/2000/svg\" height=\"24px\"viewBox=\"0 0 24 24\"\n",
              "       width=\"24px\">\n",
              "    <path d=\"M0 0h24v24H0V0z\" fill=\"none\"/>\n",
              "    <path d=\"M18.56 5.44l.94 2.06.94-2.06 2.06-.94-2.06-.94-.94-2.06-.94 2.06-2.06.94zm-11 1L8.5 8.5l.94-2.06 2.06-.94-2.06-.94L8.5 2.5l-.94 2.06-2.06.94zm10 10l.94 2.06.94-2.06 2.06-.94-2.06-.94-.94-2.06-.94 2.06-2.06.94z\"/><path d=\"M17.41 7.96l-1.37-1.37c-.4-.4-.92-.59-1.43-.59-.52 0-1.04.2-1.43.59L10.3 9.45l-7.72 7.72c-.78.78-.78 2.05 0 2.83L4 21.41c.39.39.9.59 1.41.59.51 0 1.02-.2 1.41-.59l7.78-7.78 2.81-2.81c.8-.78.8-2.07 0-2.86zM5.41 20L4 18.59l7.72-7.72 1.47 1.35L5.41 20z\"/>\n",
              "  </svg>\n",
              "      </button>\n",
              "      \n",
              "  <style>\n",
              "    .colab-df-container {\n",
              "      display:flex;\n",
              "      flex-wrap:wrap;\n",
              "      gap: 12px;\n",
              "    }\n",
              "\n",
              "    .colab-df-convert {\n",
              "      background-color: #E8F0FE;\n",
              "      border: none;\n",
              "      border-radius: 50%;\n",
              "      cursor: pointer;\n",
              "      display: none;\n",
              "      fill: #1967D2;\n",
              "      height: 32px;\n",
              "      padding: 0 0 0 0;\n",
              "      width: 32px;\n",
              "    }\n",
              "\n",
              "    .colab-df-convert:hover {\n",
              "      background-color: #E2EBFA;\n",
              "      box-shadow: 0px 1px 2px rgba(60, 64, 67, 0.3), 0px 1px 3px 1px rgba(60, 64, 67, 0.15);\n",
              "      fill: #174EA6;\n",
              "    }\n",
              "\n",
              "    [theme=dark] .colab-df-convert {\n",
              "      background-color: #3B4455;\n",
              "      fill: #D2E3FC;\n",
              "    }\n",
              "\n",
              "    [theme=dark] .colab-df-convert:hover {\n",
              "      background-color: #434B5C;\n",
              "      box-shadow: 0px 1px 3px 1px rgba(0, 0, 0, 0.15);\n",
              "      filter: drop-shadow(0px 1px 2px rgba(0, 0, 0, 0.3));\n",
              "      fill: #FFFFFF;\n",
              "    }\n",
              "  </style>\n",
              "\n",
              "      <script>\n",
              "        const buttonEl =\n",
              "          document.querySelector('#df-c993aa1e-97e4-4603-918a-50b82d3867cc button.colab-df-convert');\n",
              "        buttonEl.style.display =\n",
              "          google.colab.kernel.accessAllowed ? 'block' : 'none';\n",
              "\n",
              "        async function convertToInteractive(key) {\n",
              "          const element = document.querySelector('#df-c993aa1e-97e4-4603-918a-50b82d3867cc');\n",
              "          const dataTable =\n",
              "            await google.colab.kernel.invokeFunction('convertToInteractive',\n",
              "                                                     [key], {});\n",
              "          if (!dataTable) return;\n",
              "\n",
              "          const docLinkHtml = 'Like what you see? Visit the ' +\n",
              "            '<a target=\"_blank\" href=https://colab.research.google.com/notebooks/data_table.ipynb>data table notebook</a>'\n",
              "            + ' to learn more about interactive tables.';\n",
              "          element.innerHTML = '';\n",
              "          dataTable['output_type'] = 'display_data';\n",
              "          await google.colab.output.renderOutput(dataTable, element);\n",
              "          const docLink = document.createElement('div');\n",
              "          docLink.innerHTML = docLinkHtml;\n",
              "          element.appendChild(docLink);\n",
              "        }\n",
              "      </script>\n",
              "    </div>\n",
              "  </div>\n",
              "  "
            ]
          },
          "metadata": {},
          "execution_count": 20
        }
      ]
    },
    {
      "cell_type": "code",
      "source": [
        "peckinge_dataset.head()"
      ],
      "metadata": {
        "id": "yM46y751hlbJ",
        "colab": {
          "base_uri": "https://localhost:8080/",
          "height": 300
        },
        "outputId": "945cb635-2a69-40c7-b61f-11384b8adcde"
      },
      "execution_count": null,
      "outputs": [
        {
          "output_type": "execute_result",
          "data": {
            "text/plain": [
              "   Pelvis_x  Pelvis_y  Pelvis_z      L5_x      L5_y      L5_z      L3_x  \\\n",
              "0  0.079830  0.864688  0.671853  0.079532  0.858807  0.854355  0.081614   \n",
              "1  0.079842  0.864671  0.672392  0.079545  0.858803  0.854917  0.081632   \n",
              "2  0.079854  0.864654  0.672943  0.079558  0.858798  0.855478  0.081650   \n",
              "3  0.079881  0.864641  0.673283  0.079584  0.858794  0.855837  0.081680   \n",
              "4  0.079930  0.864631  0.673401  0.079632  0.858787  0.855944  0.081730   \n",
              "\n",
              "       L3_y      L3_z     T12_x  ...  LeftUpperLeg_z  LeftLowerLeg_x  \\\n",
              "0  0.846043  0.947130  0.082259  ...        0.727127        0.082495   \n",
              "1  0.846051  0.947364  0.082283  ...        0.727115        0.082662   \n",
              "2  0.846059  0.947598  0.082306  ...        0.727090        0.082829   \n",
              "3  0.846066  0.947744  0.082342  ...        0.727040        0.083062   \n",
              "4  0.846068  0.947785  0.082396  ...        0.727040        0.083375   \n",
              "\n",
              "   LeftLowerLeg_y  LeftLowerLeg_z  LeftFoot_x  LeftFoot_y  LeftFoot_z  \\\n",
              "0        0.863089        0.434136    0.082813    0.856869    0.083565   \n",
              "1        0.863019        0.433361    0.082802    0.856903    0.083192   \n",
              "2        0.862949        0.432576    0.082792    0.856938    0.082826   \n",
              "3        0.862838        0.431703    0.082779    0.856948    0.082562   \n",
              "4        0.862662        0.430733    0.082758    0.856914    0.082381   \n",
              "\n",
              "   LeftToe_x  LeftToe_y  LeftToe_z  \n",
              "0   0.106956   0.840893   0.023704  \n",
              "1   0.106972   0.840950   0.025200  \n",
              "2   0.106988   0.841006   0.026696  \n",
              "3   0.106997   0.841040   0.027954  \n",
              "4   0.106993   0.841034   0.028858  \n",
              "\n",
              "[5 rows x 69 columns]"
            ],
            "text/html": [
              "\n",
              "  <div id=\"df-4e08fa0d-2d38-46b2-a8e6-f6dc9956b646\">\n",
              "    <div class=\"colab-df-container\">\n",
              "      <div>\n",
              "<style scoped>\n",
              "    .dataframe tbody tr th:only-of-type {\n",
              "        vertical-align: middle;\n",
              "    }\n",
              "\n",
              "    .dataframe tbody tr th {\n",
              "        vertical-align: top;\n",
              "    }\n",
              "\n",
              "    .dataframe thead th {\n",
              "        text-align: right;\n",
              "    }\n",
              "</style>\n",
              "<table border=\"1\" class=\"dataframe\">\n",
              "  <thead>\n",
              "    <tr style=\"text-align: right;\">\n",
              "      <th></th>\n",
              "      <th>Pelvis_x</th>\n",
              "      <th>Pelvis_y</th>\n",
              "      <th>Pelvis_z</th>\n",
              "      <th>L5_x</th>\n",
              "      <th>L5_y</th>\n",
              "      <th>L5_z</th>\n",
              "      <th>L3_x</th>\n",
              "      <th>L3_y</th>\n",
              "      <th>L3_z</th>\n",
              "      <th>T12_x</th>\n",
              "      <th>...</th>\n",
              "      <th>LeftUpperLeg_z</th>\n",
              "      <th>LeftLowerLeg_x</th>\n",
              "      <th>LeftLowerLeg_y</th>\n",
              "      <th>LeftLowerLeg_z</th>\n",
              "      <th>LeftFoot_x</th>\n",
              "      <th>LeftFoot_y</th>\n",
              "      <th>LeftFoot_z</th>\n",
              "      <th>LeftToe_x</th>\n",
              "      <th>LeftToe_y</th>\n",
              "      <th>LeftToe_z</th>\n",
              "    </tr>\n",
              "  </thead>\n",
              "  <tbody>\n",
              "    <tr>\n",
              "      <th>0</th>\n",
              "      <td>0.079830</td>\n",
              "      <td>0.864688</td>\n",
              "      <td>0.671853</td>\n",
              "      <td>0.079532</td>\n",
              "      <td>0.858807</td>\n",
              "      <td>0.854355</td>\n",
              "      <td>0.081614</td>\n",
              "      <td>0.846043</td>\n",
              "      <td>0.947130</td>\n",
              "      <td>0.082259</td>\n",
              "      <td>...</td>\n",
              "      <td>0.727127</td>\n",
              "      <td>0.082495</td>\n",
              "      <td>0.863089</td>\n",
              "      <td>0.434136</td>\n",
              "      <td>0.082813</td>\n",
              "      <td>0.856869</td>\n",
              "      <td>0.083565</td>\n",
              "      <td>0.106956</td>\n",
              "      <td>0.840893</td>\n",
              "      <td>0.023704</td>\n",
              "    </tr>\n",
              "    <tr>\n",
              "      <th>1</th>\n",
              "      <td>0.079842</td>\n",
              "      <td>0.864671</td>\n",
              "      <td>0.672392</td>\n",
              "      <td>0.079545</td>\n",
              "      <td>0.858803</td>\n",
              "      <td>0.854917</td>\n",
              "      <td>0.081632</td>\n",
              "      <td>0.846051</td>\n",
              "      <td>0.947364</td>\n",
              "      <td>0.082283</td>\n",
              "      <td>...</td>\n",
              "      <td>0.727115</td>\n",
              "      <td>0.082662</td>\n",
              "      <td>0.863019</td>\n",
              "      <td>0.433361</td>\n",
              "      <td>0.082802</td>\n",
              "      <td>0.856903</td>\n",
              "      <td>0.083192</td>\n",
              "      <td>0.106972</td>\n",
              "      <td>0.840950</td>\n",
              "      <td>0.025200</td>\n",
              "    </tr>\n",
              "    <tr>\n",
              "      <th>2</th>\n",
              "      <td>0.079854</td>\n",
              "      <td>0.864654</td>\n",
              "      <td>0.672943</td>\n",
              "      <td>0.079558</td>\n",
              "      <td>0.858798</td>\n",
              "      <td>0.855478</td>\n",
              "      <td>0.081650</td>\n",
              "      <td>0.846059</td>\n",
              "      <td>0.947598</td>\n",
              "      <td>0.082306</td>\n",
              "      <td>...</td>\n",
              "      <td>0.727090</td>\n",
              "      <td>0.082829</td>\n",
              "      <td>0.862949</td>\n",
              "      <td>0.432576</td>\n",
              "      <td>0.082792</td>\n",
              "      <td>0.856938</td>\n",
              "      <td>0.082826</td>\n",
              "      <td>0.106988</td>\n",
              "      <td>0.841006</td>\n",
              "      <td>0.026696</td>\n",
              "    </tr>\n",
              "    <tr>\n",
              "      <th>3</th>\n",
              "      <td>0.079881</td>\n",
              "      <td>0.864641</td>\n",
              "      <td>0.673283</td>\n",
              "      <td>0.079584</td>\n",
              "      <td>0.858794</td>\n",
              "      <td>0.855837</td>\n",
              "      <td>0.081680</td>\n",
              "      <td>0.846066</td>\n",
              "      <td>0.947744</td>\n",
              "      <td>0.082342</td>\n",
              "      <td>...</td>\n",
              "      <td>0.727040</td>\n",
              "      <td>0.083062</td>\n",
              "      <td>0.862838</td>\n",
              "      <td>0.431703</td>\n",
              "      <td>0.082779</td>\n",
              "      <td>0.856948</td>\n",
              "      <td>0.082562</td>\n",
              "      <td>0.106997</td>\n",
              "      <td>0.841040</td>\n",
              "      <td>0.027954</td>\n",
              "    </tr>\n",
              "    <tr>\n",
              "      <th>4</th>\n",
              "      <td>0.079930</td>\n",
              "      <td>0.864631</td>\n",
              "      <td>0.673401</td>\n",
              "      <td>0.079632</td>\n",
              "      <td>0.858787</td>\n",
              "      <td>0.855944</td>\n",
              "      <td>0.081730</td>\n",
              "      <td>0.846068</td>\n",
              "      <td>0.947785</td>\n",
              "      <td>0.082396</td>\n",
              "      <td>...</td>\n",
              "      <td>0.727040</td>\n",
              "      <td>0.083375</td>\n",
              "      <td>0.862662</td>\n",
              "      <td>0.430733</td>\n",
              "      <td>0.082758</td>\n",
              "      <td>0.856914</td>\n",
              "      <td>0.082381</td>\n",
              "      <td>0.106993</td>\n",
              "      <td>0.841034</td>\n",
              "      <td>0.028858</td>\n",
              "    </tr>\n",
              "  </tbody>\n",
              "</table>\n",
              "<p>5 rows × 69 columns</p>\n",
              "</div>\n",
              "      <button class=\"colab-df-convert\" onclick=\"convertToInteractive('df-4e08fa0d-2d38-46b2-a8e6-f6dc9956b646')\"\n",
              "              title=\"Convert this dataframe to an interactive table.\"\n",
              "              style=\"display:none;\">\n",
              "        \n",
              "  <svg xmlns=\"http://www.w3.org/2000/svg\" height=\"24px\"viewBox=\"0 0 24 24\"\n",
              "       width=\"24px\">\n",
              "    <path d=\"M0 0h24v24H0V0z\" fill=\"none\"/>\n",
              "    <path d=\"M18.56 5.44l.94 2.06.94-2.06 2.06-.94-2.06-.94-.94-2.06-.94 2.06-2.06.94zm-11 1L8.5 8.5l.94-2.06 2.06-.94-2.06-.94L8.5 2.5l-.94 2.06-2.06.94zm10 10l.94 2.06.94-2.06 2.06-.94-2.06-.94-.94-2.06-.94 2.06-2.06.94z\"/><path d=\"M17.41 7.96l-1.37-1.37c-.4-.4-.92-.59-1.43-.59-.52 0-1.04.2-1.43.59L10.3 9.45l-7.72 7.72c-.78.78-.78 2.05 0 2.83L4 21.41c.39.39.9.59 1.41.59.51 0 1.02-.2 1.41-.59l7.78-7.78 2.81-2.81c.8-.78.8-2.07 0-2.86zM5.41 20L4 18.59l7.72-7.72 1.47 1.35L5.41 20z\"/>\n",
              "  </svg>\n",
              "      </button>\n",
              "      \n",
              "  <style>\n",
              "    .colab-df-container {\n",
              "      display:flex;\n",
              "      flex-wrap:wrap;\n",
              "      gap: 12px;\n",
              "    }\n",
              "\n",
              "    .colab-df-convert {\n",
              "      background-color: #E8F0FE;\n",
              "      border: none;\n",
              "      border-radius: 50%;\n",
              "      cursor: pointer;\n",
              "      display: none;\n",
              "      fill: #1967D2;\n",
              "      height: 32px;\n",
              "      padding: 0 0 0 0;\n",
              "      width: 32px;\n",
              "    }\n",
              "\n",
              "    .colab-df-convert:hover {\n",
              "      background-color: #E2EBFA;\n",
              "      box-shadow: 0px 1px 2px rgba(60, 64, 67, 0.3), 0px 1px 3px 1px rgba(60, 64, 67, 0.15);\n",
              "      fill: #174EA6;\n",
              "    }\n",
              "\n",
              "    [theme=dark] .colab-df-convert {\n",
              "      background-color: #3B4455;\n",
              "      fill: #D2E3FC;\n",
              "    }\n",
              "\n",
              "    [theme=dark] .colab-df-convert:hover {\n",
              "      background-color: #434B5C;\n",
              "      box-shadow: 0px 1px 3px 1px rgba(0, 0, 0, 0.15);\n",
              "      filter: drop-shadow(0px 1px 2px rgba(0, 0, 0, 0.3));\n",
              "      fill: #FFFFFF;\n",
              "    }\n",
              "  </style>\n",
              "\n",
              "      <script>\n",
              "        const buttonEl =\n",
              "          document.querySelector('#df-4e08fa0d-2d38-46b2-a8e6-f6dc9956b646 button.colab-df-convert');\n",
              "        buttonEl.style.display =\n",
              "          google.colab.kernel.accessAllowed ? 'block' : 'none';\n",
              "\n",
              "        async function convertToInteractive(key) {\n",
              "          const element = document.querySelector('#df-4e08fa0d-2d38-46b2-a8e6-f6dc9956b646');\n",
              "          const dataTable =\n",
              "            await google.colab.kernel.invokeFunction('convertToInteractive',\n",
              "                                                     [key], {});\n",
              "          if (!dataTable) return;\n",
              "\n",
              "          const docLinkHtml = 'Like what you see? Visit the ' +\n",
              "            '<a target=\"_blank\" href=https://colab.research.google.com/notebooks/data_table.ipynb>data table notebook</a>'\n",
              "            + ' to learn more about interactive tables.';\n",
              "          element.innerHTML = '';\n",
              "          dataTable['output_type'] = 'display_data';\n",
              "          await google.colab.output.renderOutput(dataTable, element);\n",
              "          const docLink = document.createElement('div');\n",
              "          docLink.innerHTML = docLinkHtml;\n",
              "          element.appendChild(docLink);\n",
              "        }\n",
              "      </script>\n",
              "    </div>\n",
              "  </div>\n",
              "  "
            ]
          },
          "metadata": {},
          "execution_count": 21
        }
      ]
    },
    {
      "cell_type": "markdown",
      "source": [
        "# prepares la clasification des données"
      ],
      "metadata": {
        "id": "pnKyvqx1k0xD"
      }
    },
    {
      "cell_type": "code",
      "source": [
        "def import_data(dataframe, classe):\n",
        "  train_data = np.empty((0,69))\n",
        "  train_classe = np.empty((0,1))\n",
        "  for i in range(len(dataframe)):\n",
        "    train_data=np.concatenate((train_data,dataframe.iloc[[i]]))\n",
        "    train_classe=np.concatenate((train_classe,[[classe]]))\n",
        "  return train_data, train_classe"
      ],
      "metadata": {
        "id": "x4Dk0q-AkvZ_"
      },
      "execution_count": null,
      "outputs": []
    },
    {
      "cell_type": "code",
      "source": [
        "x_pecking_data, y_pecking_data = import_data(peckinge_dataset,1)\n",
        "x_inventory_data, y_inventory_data = import_data(inventory_dataset,2)"
      ],
      "metadata": {
        "id": "cKEiLqN-k3ns"
      },
      "execution_count": null,
      "outputs": []
    },
    {
      "cell_type": "code",
      "source": [
        "X = np.concatenate((x_pecking_data,x_inventory_data), axis = 0)\n",
        "y = np.concatenate((y_pecking_data,y_inventory_data), axis = 0)"
      ],
      "metadata": {
        "id": "8hPv_gIak6Y5"
      },
      "execution_count": null,
      "outputs": []
    },
    {
      "cell_type": "code",
      "source": [
        "#y = y.astype(int)"
      ],
      "metadata": {
        "id": "LUeC3xbwaJhr"
      },
      "execution_count": null,
      "outputs": []
    },
    {
      "cell_type": "code",
      "source": [
        "y"
      ],
      "metadata": {
        "id": "jYOXKJBxaNSY",
        "colab": {
          "base_uri": "https://localhost:8080/"
        },
        "outputId": "ad0c764f-8668-4d18-e18a-ca82eadf503b"
      },
      "execution_count": null,
      "outputs": [
        {
          "output_type": "execute_result",
          "data": {
            "text/plain": [
              "array([[1.],\n",
              "       [1.],\n",
              "       [1.],\n",
              "       ...,\n",
              "       [2.],\n",
              "       [2.],\n",
              "       [2.]])"
            ]
          },
          "metadata": {},
          "execution_count": 26
        }
      ]
    },
    {
      "cell_type": "code",
      "source": [
        "from sklearn.model_selection import train_test_split\n",
        "X_train, X_test, y_train, y_test = train_test_split(X, y, test_size=0.3, train_size=0.7, random_state=1)"
      ],
      "metadata": {
        "id": "wf8OgQark9u5"
      },
      "execution_count": null,
      "outputs": []
    },
    {
      "cell_type": "code",
      "source": [
        "X_train"
      ],
      "metadata": {
        "id": "dpjcqKMQlPWP",
        "colab": {
          "base_uri": "https://localhost:8080/"
        },
        "outputId": "04392c25-f769-4852-c0c4-a8222520a50b"
      },
      "execution_count": null,
      "outputs": [
        {
          "output_type": "execute_result",
          "data": {
            "text/plain": [
              "array([[0.29870339, 0.65688495, 0.0430521 , ..., 0.32980852, 0.68782953,\n",
              "        0.06740828],\n",
              "       [0.64771425, 0.67553226, 0.62924426, ..., 0.64782867, 0.68437154,\n",
              "        0.04449576],\n",
              "       [0.23294328, 0.24878487, 0.63432234, ..., 0.22955675, 0.2801859 ,\n",
              "        0.06803306],\n",
              "       ...,\n",
              "       [0.71682456, 0.2340695 , 0.54432042, ..., 0.70900125, 0.29302747,\n",
              "        0.04192081],\n",
              "       [0.67110422, 0.80246246, 0.80487805, ..., 0.67603875, 0.75370349,\n",
              "        0.14532895],\n",
              "       [0.81531316, 0.23119312, 0.71103105, ..., 0.76953366, 0.29331127,\n",
              "        0.03507805]])"
            ]
          },
          "metadata": {},
          "execution_count": 28
        }
      ]
    },
    {
      "cell_type": "code",
      "source": [
        "y_train"
      ],
      "metadata": {
        "id": "ZKfHX0oZYfW3",
        "colab": {
          "base_uri": "https://localhost:8080/"
        },
        "outputId": "57c03a77-6290-408a-aac0-00ea0ca4af1a"
      },
      "execution_count": null,
      "outputs": [
        {
          "output_type": "execute_result",
          "data": {
            "text/plain": [
              "array([[2.],\n",
              "       [1.],\n",
              "       [1.],\n",
              "       ...,\n",
              "       [1.],\n",
              "       [2.],\n",
              "       [2.]])"
            ]
          },
          "metadata": {},
          "execution_count": 29
        }
      ]
    },
    {
      "cell_type": "code",
      "source": [
        "from sklearn.naive_bayes import GaussianNB\n",
        "from sklearn.metrics import (precision_score, recall_score, f1_score, accuracy_score, confusion_matrix)\n",
        "#fit the model with naive Bayes algorithm\n",
        "model_nb = GaussianNB()"
      ],
      "metadata": {
        "id": "BY7C8drGlAiP"
      },
      "execution_count": null,
      "outputs": []
    },
    {
      "cell_type": "code",
      "source": [
        "model_nb.fit(X_train, y_train)\n",
        "#Prédire les données de test\n",
        "y_pred_nb = model_nb.predict(X_test) "
      ],
      "metadata": {
        "id": "mX2M7mW7Tm8n",
        "colab": {
          "base_uri": "https://localhost:8080/"
        },
        "outputId": "269ad5b5-c5f4-4729-91d0-53e2c7562266"
      },
      "execution_count": null,
      "outputs": [
        {
          "output_type": "stream",
          "name": "stderr",
          "text": [
            "/usr/local/lib/python3.8/dist-packages/sklearn/utils/validation.py:993: DataConversionWarning: A column-vector y was passed when a 1d array was expected. Please change the shape of y to (n_samples, ), for example using ravel().\n",
            "  y = column_or_1d(y, warn=True)\n"
          ]
        }
      ]
    },
    {
      "cell_type": "code",
      "source": [
        "#Import svm model\n",
        "from sklearn import svm\n",
        "\n",
        "#Create a svm Classifier\n",
        "clf = svm.SVC(kernel='linear') # Linear Kernel\n",
        "\n",
        "#Train the model using the training sets\n",
        "clf.fit(X_train, y_train)\n",
        "\n",
        "#Predict the response for test dataset\n",
        "y_pred = clf.predict(X_test)"
      ],
      "metadata": {
        "id": "hVmP8LB1Nc2i",
        "colab": {
          "base_uri": "https://localhost:8080/"
        },
        "outputId": "1c03cf53-438d-4e5d-b0e2-09f056b14448"
      },
      "execution_count": null,
      "outputs": [
        {
          "output_type": "stream",
          "name": "stderr",
          "text": [
            "/usr/local/lib/python3.8/dist-packages/sklearn/utils/validation.py:993: DataConversionWarning: A column-vector y was passed when a 1d array was expected. Please change the shape of y to (n_samples, ), for example using ravel().\n",
            "  y = column_or_1d(y, warn=True)\n"
          ]
        }
      ]
    },
    {
      "cell_type": "code",
      "source": [
        "import matplotlib.pyplot as plt\n",
        "\n",
        "def visualisier_resultat(y_test, y_pred, algo, modele):\n",
        "  #Evaluer le modele : Matrice de confusion\n",
        "  confusion_m= confusion_matrix(y_test, y_pred) \n",
        "  print(\"Matrice de confusion \\n\", confusion_m) #Evaluer le modele : Accuracy\n",
        "  acc = accuracy_score(y_test,y_pred) \n",
        "  print(\"Accuracy : \",acc)\n",
        "  #Precision\n",
        "  precision = precision_score(y_test,y_pred, pos_label='positive',average='micro')\n",
        "  print(\"precision : \",precision)\n",
        "  #Rappel\n",
        "  rappel = recall_score(y_test,y_pred,pos_label='positive',average='micro')\n",
        "  print(\"Rappel : \",rappel)\n",
        "  #F-mesure\n",
        "  f_mesure=f1_score(y_test, y_pred, labels=None, pos_label=1, average='micro',sample_weight=None,zero_division='warn') \n",
        "  print(\"f_mesure : \",f_mesure) #Graphiquement K-means\n",
        "  u_labels = np.unique(y_pred)\n",
        "  for i in u_labels:\n",
        "    plt.scatter(X_test[y_pred==i,0] , X_test[y_pred== i,1], label = 'Classes')\n",
        "    if algo == 'KM':\n",
        "      plt.scatter(modele.cluster_centers_[:, 0],modele.cluster_centers_[:, 1],c='black',label='Centroids')\n",
        "  plt.plot()\n",
        "  plt.show()"
      ],
      "metadata": {
        "id": "_vMfSxlBlD2y"
      },
      "execution_count": null,
      "outputs": []
    },
    {
      "cell_type": "code",
      "source": [
        "visualisier_resultat(y_test, y_pred_nb,'NB',model_nb)"
      ],
      "metadata": {
        "id": "9ndEmSzp9NP_",
        "colab": {
          "base_uri": "https://localhost:8080/",
          "height": 476
        },
        "outputId": "666f3185-f718-4daa-e8ca-c53d7d03eca7"
      },
      "execution_count": null,
      "outputs": [
        {
          "output_type": "stream",
          "name": "stdout",
          "text": [
            "Matrice de confusion \n",
            " [[13374  1969]\n",
            " [ 2322 12799]]\n",
            "Accuracy :  0.8591452205882353\n",
            "precision :  0.8591452205882353\n",
            "Rappel :  0.8591452205882353\n",
            "f_mesure :  0.8591452205882353\n"
          ]
        },
        {
          "output_type": "stream",
          "name": "stderr",
          "text": [
            "/usr/local/lib/python3.8/dist-packages/sklearn/metrics/_classification.py:1370: UserWarning: Note that pos_label (set to 'positive') is ignored when average != 'binary' (got 'micro'). You may use labels=[pos_label] to specify a single positive class.\n",
            "  warnings.warn(\n",
            "/usr/local/lib/python3.8/dist-packages/sklearn/metrics/_classification.py:1370: UserWarning: Note that pos_label (set to 'positive') is ignored when average != 'binary' (got 'micro'). You may use labels=[pos_label] to specify a single positive class.\n",
            "  warnings.warn(\n"
          ]
        },
        {
          "output_type": "display_data",
          "data": {
            "text/plain": [
              "<Figure size 432x288 with 1 Axes>"
            ],
            "image/png": "[encoded data removed]"
          },
          "metadata": {
            "needs_background": "light"
          }
        }
      ]
    },
    {
      "cell_type": "code",
      "source": [
        "from sklearn.cluster import KMeans\n",
        "from sklearn import model_selection\n",
        "model_km = KMeans(2)\n",
        "#Entrainer le modéle K-means en utilisant X_train \n",
        "model_km.fit(X_train, y_train)\n",
        "#Cross validation 10_fold\n",
        "succes = model_selection.cross_val_score(model_km, X, y, cv=10,scoring='accuracy')\n",
        "print('Résultat : ', succes)\n",
        "#Prédire les données de test\n",
        "y_pred_km = model_km.predict(X_test) \n",
        "visualisier_resultat(y_test, y_pred_km,'KM',model_km)"
      ],
      "metadata": {
        "id": "AoWe1P7-9RcH",
        "colab": {
          "base_uri": "https://localhost:8080/",
          "height": 528
        },
        "outputId": "9db972e3-113d-4977-b346-5d68e58b6aae"
      },
      "execution_count": null,
      "outputs": [
        {
          "output_type": "stream",
          "name": "stdout",
          "text": [
            "Résultat :  [0.40689316 0.27572624 0.4216642  0.53628754 0.51866076 0.\n",
            " 0.         0.         0.         0.        ]\n",
            "Matrice de confusion \n",
            " [[   0    0    0]\n",
            " [6928 8415    0]\n",
            " [7545 7576    0]]\n",
            "Accuracy :  0.27622767857142855\n",
            "precision :  0.27622767857142855\n",
            "Rappel :  0.27622767857142855\n",
            "f_mesure :  0.27622767857142855\n"
          ]
        },
        {
          "output_type": "stream",
          "name": "stderr",
          "text": [
            "/usr/local/lib/python3.8/dist-packages/sklearn/metrics/_classification.py:1370: UserWarning: Note that pos_label (set to 'positive') is ignored when average != 'binary' (got 'micro'). You may use labels=[pos_label] to specify a single positive class.\n",
            "  warnings.warn(\n",
            "/usr/local/lib/python3.8/dist-packages/sklearn/metrics/_classification.py:1370: UserWarning: Note that pos_label (set to 'positive') is ignored when average != 'binary' (got 'micro'). You may use labels=[pos_label] to specify a single positive class.\n",
            "  warnings.warn(\n"
          ]
        },
        {
          "output_type": "display_data",
          "data": {
            "text/plain": [
              "<Figure size 432x288 with 1 Axes>"
            ],
            "image/png": "[encoded data removed]"
          },
          "metadata": {
            "needs_background": "light"
          }
        }
      ]
    },
    {
      "cell_type": "code",
      "source": [
        "X_test"
      ],
      "metadata": {
        "id": "ks1rTa2Z9V6-",
        "colab": {
          "base_uri": "https://localhost:8080/"
        },
        "outputId": "0513b6cf-9e23-4e16-e4cb-d0c60e47a616"
      },
      "execution_count": null,
      "outputs": [
        {
          "output_type": "execute_result",
          "data": {
            "text/plain": [
              "array([[0.36724734, 0.30454506, 0.02635503, ..., 0.3335752 , 0.32695386,\n",
              "        0.06648312],\n",
              "       [0.55570962, 0.03932891, 0.76686386, ..., 0.55514493, 0.04489129,\n",
              "        0.09401652],\n",
              "       [0.74250747, 0.71143011, 0.95294861, ..., 0.70950647, 0.69210672,\n",
              "        0.07873867],\n",
              "       ...,\n",
              "       [0.7259252 , 0.31486445, 0.79571457, ..., 0.70030713, 0.25936052,\n",
              "        0.10856845],\n",
              "       [0.7372086 , 0.35011147, 0.35578927, ..., 0.71041344, 0.37508526,\n",
              "        0.07889348],\n",
              "       [0.11969661, 0.31470579, 0.99167514, ..., 0.11547448, 0.32569935,\n",
              "        0.06502293]])"
            ]
          },
          "metadata": {},
          "execution_count": 36
        }
      ]
    },
    {
      "cell_type": "code",
      "source": [
        "#Prédire les données de test\n",
        "y_pred_nb = model_nb.predict(X_test[[0]]) "
      ],
      "metadata": {
        "id": "DbqnvlVr9aEx"
      },
      "execution_count": null,
      "outputs": []
    },
    {
      "cell_type": "code",
      "source": [
        "y_pred_nb"
      ],
      "metadata": {
        "id": "4Y82YkOG9dj5",
        "colab": {
          "base_uri": "https://localhost:8080/"
        },
        "outputId": "505cb62b-43e9-4324-ae5a-567eb6406c81"
      },
      "execution_count": null,
      "outputs": [
        {
          "output_type": "execute_result",
          "data": {
            "text/plain": [
              "array([2.])"
            ]
          },
          "metadata": {},
          "execution_count": 38
        }
      ]
    },
    {
      "cell_type": "code",
      "source": [
        "y_test[0]"
      ],
      "metadata": {
        "id": "pXJCcezM9f49",
        "colab": {
          "base_uri": "https://localhost:8080/"
        },
        "outputId": "72349a76-20a8-4825-eecf-60f58125bc5b"
      },
      "execution_count": null,
      "outputs": [
        {
          "output_type": "execute_result",
          "data": {
            "text/plain": [
              "array([2.])"
            ]
          },
          "metadata": {},
          "execution_count": 39
        }
      ]
    },
    {
      "cell_type": "code",
      "source": [
        "def preprosess_data(dataframe):\n",
        "  train_data = np.empty((0,69))\n",
        "  for i in range(len(dataframe)):\n",
        "    train_data=np.concatenate((train_data,dataframe.iloc[[i]]))\n",
        "  return train_data"
      ],
      "metadata": {
        "id": "YAS8niAh9il7"
      },
      "execution_count": null,
      "outputs": []
    },
    {
      "cell_type": "code",
      "source": [
        "def clasification(X):\n",
        "  y_pred_nb = model_nb.predict(X)\n",
        "  # Convert the predictions to a 1D array of class indices\n",
        "  predictions = y_pred_nb.astype('int')\n",
        "  # Get the class with the majority of occurrences\n",
        "  majority_class = np.bincount(predictions).argmax()\n",
        "  if(majority_class == 1):\n",
        "    return \"sorting and pecking\"\n",
        "  elif(majority_class == 2):\n",
        "    return \"inventory checking\" "
      ],
      "metadata": {
        "id": "Rh6VwozB9m-O"
      },
      "execution_count": null,
      "outputs": []
    },
    {
      "cell_type": "code",
      "source": [
        "df_sorting = pd.read_excel(\"P006_006.xlsx\")\n",
        "df_inventory = pd.read_excel(\"P006_014.xlsx\")"
      ],
      "metadata": {
        "id": "e8A3pyct9pJc"
      },
      "execution_count": null,
      "outputs": []
    },
    {
      "cell_type": "code",
      "source": [
        "# Normalization\n",
        "def Normalization(df):\n",
        "\n",
        "  List = list(df)\n",
        "  for i in List:\n",
        "    max = df[i].max()\n",
        "    min = df[i].min()\n",
        "    for j in range(len(df[i])):\n",
        "      df[i].iloc[j] = (df[i].iloc[j]-min)/(max-min)\n",
        "  return df"
      ],
      "metadata": {
        "id": "1SLRJbMkAjBb"
      },
      "execution_count": null,
      "outputs": []
    },
    {
      "cell_type": "code",
      "source": [
        "df_sorting = Normalization(df_sorting)"
      ],
      "metadata": {
        "id": "KPwyXivWAwaT",
        "colab": {
          "base_uri": "https://localhost:8080/"
        },
        "outputId": "bcf4b3b5-6b9e-43ca-e075-a0a7e52d1c67"
      },
      "execution_count": null,
      "outputs": [
        {
          "output_type": "stream",
          "name": "stderr",
          "text": [
            "/usr/local/lib/python3.8/dist-packages/pandas/core/indexing.py:1732: SettingWithCopyWarning: \n",
            "A value is trying to be set on a copy of a slice from a DataFrame\n",
            "\n",
            "See the caveats in the documentation: https://pandas.pydata.org/pandas-docs/stable/user_guide/indexing.html#returning-a-view-versus-a-copy\n",
            "  self._setitem_single_block(indexer, value, name)\n"
          ]
        }
      ]
    },
    {
      "cell_type": "code",
      "source": [
        "df_inventory = Normalization(df_inventory)"
      ],
      "metadata": {
        "id": "A0gD8Xm5A1ov"
      },
      "execution_count": null,
      "outputs": []
    },
    {
      "cell_type": "code",
      "source": [
        "del df_sorting['Timestamp']\n",
        "del df_inventory['Timestamp']"
      ],
      "metadata": {
        "id": "n5_QKjr5A5TH"
      },
      "execution_count": null,
      "outputs": []
    },
    {
      "cell_type": "code",
      "source": [
        "df_sorting_preprocess = preprosess_data(df_sorting)"
      ],
      "metadata": {
        "id": "ymZAXgXzBJ2R"
      },
      "execution_count": null,
      "outputs": []
    },
    {
      "cell_type": "code",
      "source": [
        "df_inventory_preprocess = preprosess_data(df_inventory)"
      ],
      "metadata": {
        "id": "Dz2AvLsbBci_"
      },
      "execution_count": null,
      "outputs": []
    },
    {
      "cell_type": "code",
      "source": [
        "print(clasification(df_sorting_preprocess))"
      ],
      "metadata": {
        "id": "9oE13oG0BkcD",
        "colab": {
          "base_uri": "https://localhost:8080/"
        },
        "outputId": "d33b2015-7b03-4c10-bdd3-3f6bc97bb981"
      },
      "execution_count": null,
      "outputs": [
        {
          "output_type": "stream",
          "name": "stdout",
          "text": [
            "sorting and pecking\n"
          ]
        }
      ]
    },
    {
      "cell_type": "code",
      "source": [
        "print(clasification(df_inventory_preprocess))"
      ],
      "metadata": {
        "id": "Ua20HyJnBnOj",
        "colab": {
          "base_uri": "https://localhost:8080/"
        },
        "outputId": "f25848de-e6c2-45a8-d33c-9d648541968b"
      },
      "execution_count": null,
      "outputs": [
        {
          "output_type": "stream",
          "name": "stdout",
          "text": [
            "inventory checking\n"
          ]
        }
      ]
    },
    {
      "cell_type": "code",
      "source": [
        "df_P7_13_inv = pd.read_excel(\"P007_013.xlsx\")"
      ],
      "metadata": {
        "id": "yrrMzXFNLz06"
      },
      "execution_count": null,
      "outputs": []
    },
    {
      "cell_type": "code",
      "source": [
        "df_P7_13_inv = Normalization(df_P7_13_inv)"
      ],
      "metadata": {
        "colab": {
          "base_uri": "https://localhost:8080/"
        },
        "id": "ybNyLtgPL9n7",
        "outputId": "f936793e-ee92-4034-c2a4-0f41c99c9a38"
      },
      "execution_count": null,
      "outputs": [
        {
          "output_type": "stream",
          "name": "stderr",
          "text": [
            "/usr/local/lib/python3.8/dist-packages/pandas/core/indexing.py:1732: SettingWithCopyWarning: \n",
            "A value is trying to be set on a copy of a slice from a DataFrame\n",
            "\n",
            "See the caveats in the documentation: https://pandas.pydata.org/pandas-docs/stable/user_guide/indexing.html#returning-a-view-versus-a-copy\n",
            "  self._setitem_single_block(indexer, value, name)\n"
          ]
        }
      ]
    },
    {
      "cell_type": "code",
      "source": [
        "del df_P7_13_inv['Timestamp']"
      ],
      "metadata": {
        "id": "4gBr_s-AMDPo"
      },
      "execution_count": null,
      "outputs": []
    },
    {
      "cell_type": "code",
      "source": [
        "df_P7_13_inv_preprocess = preprosess_data(df_P7_13_inv)"
      ],
      "metadata": {
        "id": "kMM-t9zIMNt7"
      },
      "execution_count": null,
      "outputs": []
    },
    {
      "cell_type": "code",
      "source": [
        "print(clasification(df_P7_13_inv_preprocess))"
      ],
      "metadata": {
        "colab": {
          "base_uri": "https://localhost:8080/"
        },
        "id": "LHMjm9-rMYnc",
        "outputId": "4eadabbc-fbe2-45f8-cc4d-e23cf09109db"
      },
      "execution_count": null,
      "outputs": [
        {
          "output_type": "stream",
          "name": "stdout",
          "text": [
            "inventory checking\n"
          ]
        }
      ]
    },
    {
      "cell_type": "code",
      "source": [
        "df_P008_007_sort = pd.read_excel(\"P008_007.xlsx\")\n",
        "df_P008_007_sort = Normalization(df_P008_007_sort)\n",
        "del df_P008_007_sort['Timestamp']\n",
        "df_P008_007_sort_preprocess = preprosess_data(df_P008_007_sort)\n",
        "print(clasification(df_P008_007_sort_preprocess))"
      ],
      "metadata": {
        "colab": {
          "base_uri": "https://localhost:8080/"
        },
        "id": "SyFHBqNJMwvt",
        "outputId": "047e00a2-7de2-4e3a-912d-c7add35d802c"
      },
      "execution_count": null,
      "outputs": [
        {
          "output_type": "stream",
          "name": "stderr",
          "text": [
            "/usr/local/lib/python3.8/dist-packages/pandas/core/indexing.py:1732: SettingWithCopyWarning: \n",
            "A value is trying to be set on a copy of a slice from a DataFrame\n",
            "\n",
            "See the caveats in the documentation: https://pandas.pydata.org/pandas-docs/stable/user_guide/indexing.html#returning-a-view-versus-a-copy\n",
            "  self._setitem_single_block(indexer, value, name)\n"
          ]
        },
        {
          "output_type": "stream",
          "name": "stdout",
          "text": [
            "sorting and pecking\n"
          ]
        }
      ]
    },
    {
      "cell_type": "code",
      "source": [
        "def clasification_clf(X):\n",
        "  y_pred_nb = clf.predict(X)\n",
        "  # Convert the predictions to a 1D array of class indices\n",
        "  predictions = y_pred_nb.astype('int')\n",
        "  # Get the class with the majority of occurrences\n",
        "  majority_class = np.bincount(predictions).argmax()\n",
        "  if(majority_class == 1):\n",
        "    return \"sorting and pecking\"\n",
        "  elif(majority_class == 2):\n",
        "    return \"inventory checking\" "
      ],
      "metadata": {
        "id": "rAYU39cNPGbt"
      },
      "execution_count": null,
      "outputs": []
    },
    {
      "cell_type": "code",
      "source": [
        "print(clasification_clf(df_P008_007_sort_preprocess))"
      ],
      "metadata": {
        "colab": {
          "base_uri": "https://localhost:8080/"
        },
        "id": "ZRZTyw_9YtiO",
        "outputId": "2cb10854-1f42-465a-a909-30f0f5c234c5"
      },
      "execution_count": null,
      "outputs": [
        {
          "output_type": "stream",
          "name": "stdout",
          "text": [
            "sorting and pecking\n"
          ]
        }
      ]
    },
    {
      "cell_type": "code",
      "source": [
        "print(clasification_clf(df_P7_13_inv_preprocess))"
      ],
      "metadata": {
        "colab": {
          "base_uri": "https://localhost:8080/"
        },
        "id": "aYDrlWs3Yxg6",
        "outputId": "d03cd8a9-734d-4692-ea01-6fa26c51486c"
      },
      "execution_count": null,
      "outputs": [
        {
          "output_type": "stream",
          "name": "stdout",
          "text": [
            "inventory checking\n"
          ]
        }
      ]
    },
    {
      "cell_type": "code",
      "source": [
        "print(clasification_clf(df_inventory_preprocess))"
      ],
      "metadata": {
        "colab": {
          "base_uri": "https://localhost:8080/"
        },
        "id": "gzdqNHC8Y8WP",
        "outputId": "bd48ace6-b332-4c92-fd9d-d00ba7a72afc"
      },
      "execution_count": null,
      "outputs": [
        {
          "output_type": "stream",
          "name": "stdout",
          "text": [
            "inventory checking\n"
          ]
        }
      ]
    },
    {
      "cell_type": "code",
      "source": [
        "print(clasification_clf(df_sorting_preprocess))"
      ],
      "metadata": {
        "colab": {
          "base_uri": "https://localhost:8080/"
        },
        "id": "56thybX1ZGkn",
        "outputId": "a40994de-0ab3-459f-87b1-7b6768e0743f"
      },
      "execution_count": null,
      "outputs": [
        {
          "output_type": "stream",
          "name": "stdout",
          "text": [
            "sorting and pecking\n"
          ]
        }
      ]
    },
    {
      "cell_type": "code",
      "source": [],
      "metadata": {
        "id": "n_L8kaYhZmWw"
      },
      "execution_count": null,
      "outputs": []
    }
  ]
}