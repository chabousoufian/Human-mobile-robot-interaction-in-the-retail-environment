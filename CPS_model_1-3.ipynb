{
  "cells": [
    {
      "cell_type": "code",
      "execution_count": null,
      "metadata": {
        "id": "PpRfuwZGQkXH"
      },
      "outputs": [],
      "source": [
        "import pandas as pd\n",
        "import numpy as np"
      ]
    },
    {
      "cell_type": "code",
      "execution_count": null,
      "metadata": {
        "id": "GovaW5T_RVWy"
      },
      "outputs": [],
      "source": [
        "df_P1_1 = pd.read_excel(\"P001_001.xlsx\")\n",
        "df_P1_2 = pd.read_excel(\"P001_002.xlsx\")\n",
        "df_P1_3 = pd.read_excel(\"P001_003.xlsx\")\n",
        "df_P1_4 = pd.read_excel(\"P001_004.xlsx\")\n",
        "df_P1_5 = pd.read_excel(\"P001_005.xlsx\")\n",
        "df_P1_6 = pd.read_excel(\"P001_006.xlsx\")\n",
        "df_P1_7 = pd.read_excel(\"P001_007.xlsx\")\n",
        "df_P1_8 = pd.read_excel(\"P001_008_offaxis.xlsx\")\n",
        "df_P1_9 = pd.read_excel(\"P001_009.xlsx\")\n",
        "df_P1_10 = pd.read_excel(\"P001_010.xlsx\")\n",
        "\n",
        "\n",
        "df_P1_11 = pd.read_excel(\"P001_011.xlsx\")\n",
        "df_P1_12 = pd.read_excel(\"P001_012.xlsx\")\n",
        "df_P1_13 = pd.read_excel(\"P001_013.xlsx\")\n",
        "df_P1_14 = pd.read_excel(\"P001_014.xlsx\")"
      ]
    },
    {
      "cell_type": "code",
      "execution_count": null,
      "metadata": {
        "id": "M3lNZ5D8yAzc"
      },
      "outputs": [],
      "source": [
        "df_P2_13 = pd.read_excel(\"P002_013.xlsx\")\n",
        "df_P2_14 = pd.read_excel(\"P002_014.xlsx\")"
      ]
    },
    {
      "cell_type": "code",
      "execution_count": null,
      "metadata": {
        "id": "OQiGOHXc7YY3"
      },
      "outputs": [],
      "source": [
        "# Normalization\n",
        "def Normalization(df):\n",
        "\n",
        "  List = list(df)\n",
        "  for i in List:\n",
        "    max = df[i].max()\n",
        "    min = df[i].min()\n",
        "    for j in range(len(df[i])):\n",
        "      df[i].iloc[j] = (df[i].iloc[j]-min)/(max-min)\n",
        "  return df"
      ]
    },
    {
      "cell_type": "code",
      "execution_count": null,
      "metadata": {
        "colab": {
          "background_save": true,
          "base_uri": "https://localhost:8080/"
        },
        "id": "C_4xFXxG_ZKg",
        "outputId": "7891e350-3bd9-49b7-d824-702c80f5e980"
      },
      "outputs": [
        {
          "name": "stderr",
          "output_type": "stream",
          "text": [
            "/usr/local/lib/python3.8/dist-packages/pandas/core/indexing.py:1732: SettingWithCopyWarning: \n",
            "A value is trying to be set on a copy of a slice from a DataFrame\n",
            "\n",
            "See the caveats in the documentation: https://pandas.pydata.org/pandas-docs/stable/user_guide/indexing.html#returning-a-view-versus-a-copy\n",
            "  self._setitem_single_block(indexer, value, name)\n"
          ]
        }
      ],
      "source": [
        "df_P1_1 = Normalization(df_P1_1)\n",
        "df_P1_2 = Normalization(df_P1_2)\n",
        "df_P1_3 = Normalization(df_P1_3)\n",
        "df_P1_4 = Normalization(df_P1_4)\n",
        "df_P1_5 = Normalization(df_P1_5)\n",
        "df_P1_6 = Normalization(df_P1_6)\n",
        "df_P1_7 = Normalization(df_P1_7)\n",
        "df_P1_8 = Normalization(df_P1_8)\n",
        "df_P1_9 = Normalization(df_P1_9)\n",
        "df_P1_10 = Normalization(df_P1_10)\n",
        "df_P1_11 = Normalization(df_P1_11)\n",
        "df_P1_12 = Normalization(df_P1_12)\n",
        "df_P1_13 = Normalization(df_P1_13)\n",
        "df_P1_14 = Normalization(df_P1_14)\n",
        "df_P2_13 = Normalization(df_P2_13)\n",
        "df_P2_14 = Normalization(df_P2_14)"
      ]
    },
    {
      "cell_type": "markdown",
      "metadata": {
        "id": "I59TEbDpSyd0"
      },
      "source": [
        "# peckinge and sorting dataset without robot\n",
        "\n"
      ]
    },
    {
      "cell_type": "code",
      "execution_count": null,
      "metadata": {
        "colab": {
          "background_save": true
        },
        "id": "ICSZWGYVTPSJ"
      },
      "outputs": [],
      "source": [
        "frame = [df_P1_1, df_P1_2, df_P1_3, df_P1_4, df_P1_5 ]"
      ]
    },
    {
      "cell_type": "code",
      "execution_count": null,
      "metadata": {
        "colab": {
          "background_save": true
        },
        "id": "rLBS1nnoRved"
      },
      "outputs": [],
      "source": [
        "peckinge_dataset = pd.concat(frame)"
      ]
    },
    {
      "cell_type": "code",
      "execution_count": null,
      "metadata": {
        "colab": {
          "background_save": true
        },
        "id": "I1kUDYMdXAec",
        "outputId": "97ca9cec-cef6-4100-9fd9-2a68a925bce7"
      },
      "outputs": [
        {
          "data": {
            "text/plain": [
              "(50905, 70)"
            ]
          },
          "execution_count": 8,
          "metadata": {},
          "output_type": "execute_result"
        }
      ],
      "source": [
        "peckinge_dataset.shape"
      ]
    },
    {
      "cell_type": "code",
      "execution_count": null,
      "metadata": {
        "colab": {
          "background_save": true
        },
        "id": "QWODSiACXD7L",
        "outputId": "c4f91430-bdf0-4d1d-95f9-c95c6327dfe4"
      },
      "outputs": [
        {
          "data": {
            "text/html": [
              "\n",
              "  <div id=\"df-6ed206f7-32db-4937-a016-78c1d2dbf4bb\">\n",
              "    <div class=\"colab-df-container\">\n",
              "      <div>\n",
              "<style scoped>\n",
              "    .dataframe tbody tr th:only-of-type {\n",
              "        vertical-align: middle;\n",
              "    }\n",
              "\n",
              "    .dataframe tbody tr th {\n",
              "        vertical-align: top;\n",
              "    }\n",
              "\n",
              "    .dataframe thead th {\n",
              "        text-align: right;\n",
              "    }\n",
              "</style>\n",
              "<table border=\"1\" class=\"dataframe\">\n",
              "  <thead>\n",
              "    <tr style=\"text-align: right;\">\n",
              "      <th></th>\n",
              "      <th>Timestamp</th>\n",
              "      <th>Pelvis_x</th>\n",
              "      <th>Pelvis_y</th>\n",
              "      <th>Pelvis_z</th>\n",
              "      <th>L5_x</th>\n",
              "      <th>L5_y</th>\n",
              "      <th>L5_z</th>\n",
              "      <th>L3_x</th>\n",
              "      <th>L3_y</th>\n",
              "      <th>L3_z</th>\n",
              "      <th>...</th>\n",
              "      <th>LeftUpperLeg_z</th>\n",
              "      <th>LeftLowerLeg_x</th>\n",
              "      <th>LeftLowerLeg_y</th>\n",
              "      <th>LeftLowerLeg_z</th>\n",
              "      <th>LeftFoot_x</th>\n",
              "      <th>LeftFoot_y</th>\n",
              "      <th>LeftFoot_z</th>\n",
              "      <th>LeftToe_x</th>\n",
              "      <th>LeftToe_y</th>\n",
              "      <th>LeftToe_z</th>\n",
              "    </tr>\n",
              "  </thead>\n",
              "  <tbody>\n",
              "    <tr>\n",
              "      <th>0</th>\n",
              "      <td>0.000000</td>\n",
              "      <td>0.079830</td>\n",
              "      <td>0.864688</td>\n",
              "      <td>0.671853</td>\n",
              "      <td>0.079532</td>\n",
              "      <td>0.858807</td>\n",
              "      <td>0.854355</td>\n",
              "      <td>0.081614</td>\n",
              "      <td>0.846043</td>\n",
              "      <td>0.947130</td>\n",
              "      <td>...</td>\n",
              "      <td>0.727127</td>\n",
              "      <td>0.082495</td>\n",
              "      <td>0.863089</td>\n",
              "      <td>0.434136</td>\n",
              "      <td>0.082813</td>\n",
              "      <td>0.856869</td>\n",
              "      <td>0.083565</td>\n",
              "      <td>0.106956</td>\n",
              "      <td>0.840893</td>\n",
              "      <td>0.023704</td>\n",
              "    </tr>\n",
              "    <tr>\n",
              "      <th>1</th>\n",
              "      <td>0.000074</td>\n",
              "      <td>0.079842</td>\n",
              "      <td>0.864671</td>\n",
              "      <td>0.672392</td>\n",
              "      <td>0.079545</td>\n",
              "      <td>0.858803</td>\n",
              "      <td>0.854917</td>\n",
              "      <td>0.081632</td>\n",
              "      <td>0.846051</td>\n",
              "      <td>0.947364</td>\n",
              "      <td>...</td>\n",
              "      <td>0.727115</td>\n",
              "      <td>0.082662</td>\n",
              "      <td>0.863019</td>\n",
              "      <td>0.433361</td>\n",
              "      <td>0.082802</td>\n",
              "      <td>0.856903</td>\n",
              "      <td>0.083192</td>\n",
              "      <td>0.106972</td>\n",
              "      <td>0.840950</td>\n",
              "      <td>0.025200</td>\n",
              "    </tr>\n",
              "    <tr>\n",
              "      <th>2</th>\n",
              "      <td>0.000144</td>\n",
              "      <td>0.079854</td>\n",
              "      <td>0.864654</td>\n",
              "      <td>0.672943</td>\n",
              "      <td>0.079558</td>\n",
              "      <td>0.858798</td>\n",
              "      <td>0.855478</td>\n",
              "      <td>0.081650</td>\n",
              "      <td>0.846059</td>\n",
              "      <td>0.947598</td>\n",
              "      <td>...</td>\n",
              "      <td>0.727090</td>\n",
              "      <td>0.082829</td>\n",
              "      <td>0.862949</td>\n",
              "      <td>0.432576</td>\n",
              "      <td>0.082792</td>\n",
              "      <td>0.856938</td>\n",
              "      <td>0.082826</td>\n",
              "      <td>0.106988</td>\n",
              "      <td>0.841006</td>\n",
              "      <td>0.026696</td>\n",
              "    </tr>\n",
              "    <tr>\n",
              "      <th>3</th>\n",
              "      <td>0.000218</td>\n",
              "      <td>0.079881</td>\n",
              "      <td>0.864641</td>\n",
              "      <td>0.673283</td>\n",
              "      <td>0.079584</td>\n",
              "      <td>0.858794</td>\n",
              "      <td>0.855837</td>\n",
              "      <td>0.081680</td>\n",
              "      <td>0.846066</td>\n",
              "      <td>0.947744</td>\n",
              "      <td>...</td>\n",
              "      <td>0.727040</td>\n",
              "      <td>0.083062</td>\n",
              "      <td>0.862838</td>\n",
              "      <td>0.431703</td>\n",
              "      <td>0.082779</td>\n",
              "      <td>0.856948</td>\n",
              "      <td>0.082562</td>\n",
              "      <td>0.106997</td>\n",
              "      <td>0.841040</td>\n",
              "      <td>0.027954</td>\n",
              "    </tr>\n",
              "    <tr>\n",
              "      <th>4</th>\n",
              "      <td>0.000292</td>\n",
              "      <td>0.079930</td>\n",
              "      <td>0.864631</td>\n",
              "      <td>0.673401</td>\n",
              "      <td>0.079632</td>\n",
              "      <td>0.858787</td>\n",
              "      <td>0.855944</td>\n",
              "      <td>0.081730</td>\n",
              "      <td>0.846068</td>\n",
              "      <td>0.947785</td>\n",
              "      <td>...</td>\n",
              "      <td>0.727040</td>\n",
              "      <td>0.083375</td>\n",
              "      <td>0.862662</td>\n",
              "      <td>0.430733</td>\n",
              "      <td>0.082758</td>\n",
              "      <td>0.856914</td>\n",
              "      <td>0.082381</td>\n",
              "      <td>0.106993</td>\n",
              "      <td>0.841034</td>\n",
              "      <td>0.028858</td>\n",
              "    </tr>\n",
              "  </tbody>\n",
              "</table>\n",
              "<p>5 rows × 70 columns</p>\n",
              "</div>\n",
              "      <button class=\"colab-df-convert\" onclick=\"convertToInteractive('df-6ed206f7-32db-4937-a016-78c1d2dbf4bb')\"\n",
              "              title=\"Convert this dataframe to an interactive table.\"\n",
              "              style=\"display:none;\">\n",
              "        \n",
              "  <svg xmlns=\"http://www.w3.org/2000/svg\" height=\"24px\"viewBox=\"0 0 24 24\"\n",
              "       width=\"24px\">\n",
              "    <path d=\"M0 0h24v24H0V0z\" fill=\"none\"/>\n",
              "    <path d=\"M18.56 5.44l.94 2.06.94-2.06 2.06-.94-2.06-.94-.94-2.06-.94 2.06-2.06.94zm-11 1L8.5 8.5l.94-2.06 2.06-.94-2.06-.94L8.5 2.5l-.94 2.06-2.06.94zm10 10l.94 2.06.94-2.06 2.06-.94-2.06-.94-.94-2.06-.94 2.06-2.06.94z\"/><path d=\"M17.41 7.96l-1.37-1.37c-.4-.4-.92-.59-1.43-.59-.52 0-1.04.2-1.43.59L10.3 9.45l-7.72 7.72c-.78.78-.78 2.05 0 2.83L4 21.41c.39.39.9.59 1.41.59.51 0 1.02-.2 1.41-.59l7.78-7.78 2.81-2.81c.8-.78.8-2.07 0-2.86zM5.41 20L4 18.59l7.72-7.72 1.47 1.35L5.41 20z\"/>\n",
              "  </svg>\n",
              "      </button>\n",
              "      \n",
              "  <style>\n",
              "    .colab-df-container {\n",
              "      display:flex;\n",
              "      flex-wrap:wrap;\n",
              "      gap: 12px;\n",
              "    }\n",
              "\n",
              "    .colab-df-convert {\n",
              "      background-color: #E8F0FE;\n",
              "      border: none;\n",
              "      border-radius: 50%;\n",
              "      cursor: pointer;\n",
              "      display: none;\n",
              "      fill: #1967D2;\n",
              "      height: 32px;\n",
              "      padding: 0 0 0 0;\n",
              "      width: 32px;\n",
              "    }\n",
              "\n",
              "    .colab-df-convert:hover {\n",
              "      background-color: #E2EBFA;\n",
              "      box-shadow: 0px 1px 2px rgba(60, 64, 67, 0.3), 0px 1px 3px 1px rgba(60, 64, 67, 0.15);\n",
              "      fill: #174EA6;\n",
              "    }\n",
              "\n",
              "    [theme=dark] .colab-df-convert {\n",
              "      background-color: #3B4455;\n",
              "      fill: #D2E3FC;\n",
              "    }\n",
              "\n",
              "    [theme=dark] .colab-df-convert:hover {\n",
              "      background-color: #434B5C;\n",
              "      box-shadow: 0px 1px 3px 1px rgba(0, 0, 0, 0.15);\n",
              "      filter: drop-shadow(0px 1px 2px rgba(0, 0, 0, 0.3));\n",
              "      fill: #FFFFFF;\n",
              "    }\n",
              "  </style>\n",
              "\n",
              "      <script>\n",
              "        const buttonEl =\n",
              "          document.querySelector('#df-6ed206f7-32db-4937-a016-78c1d2dbf4bb button.colab-df-convert');\n",
              "        buttonEl.style.display =\n",
              "          google.colab.kernel.accessAllowed ? 'block' : 'none';\n",
              "\n",
              "        async function convertToInteractive(key) {\n",
              "          const element = document.querySelector('#df-6ed206f7-32db-4937-a016-78c1d2dbf4bb');\n",
              "          const dataTable =\n",
              "            await google.colab.kernel.invokeFunction('convertToInteractive',\n",
              "                                                     [key], {});\n",
              "          if (!dataTable) return;\n",
              "\n",
              "          const docLinkHtml = 'Like what you see? Visit the ' +\n",
              "            '<a target=\"_blank\" href=https://colab.research.google.com/notebooks/data_table.ipynb>data table notebook</a>'\n",
              "            + ' to learn more about interactive tables.';\n",
              "          element.innerHTML = '';\n",
              "          dataTable['output_type'] = 'display_data';\n",
              "          await google.colab.output.renderOutput(dataTable, element);\n",
              "          const docLink = document.createElement('div');\n",
              "          docLink.innerHTML = docLinkHtml;\n",
              "          element.appendChild(docLink);\n",
              "        }\n",
              "      </script>\n",
              "    </div>\n",
              "  </div>\n",
              "  "
            ],
            "text/plain": [
              "   Timestamp  Pelvis_x  Pelvis_y  Pelvis_z      L5_x      L5_y      L5_z  \\\n",
              "0   0.000000  0.079830  0.864688  0.671853  0.079532  0.858807  0.854355   \n",
              "1   0.000074  0.079842  0.864671  0.672392  0.079545  0.858803  0.854917   \n",
              "2   0.000144  0.079854  0.864654  0.672943  0.079558  0.858798  0.855478   \n",
              "3   0.000218  0.079881  0.864641  0.673283  0.079584  0.858794  0.855837   \n",
              "4   0.000292  0.079930  0.864631  0.673401  0.079632  0.858787  0.855944   \n",
              "\n",
              "       L3_x      L3_y      L3_z  ...  LeftUpperLeg_z  LeftLowerLeg_x  \\\n",
              "0  0.081614  0.846043  0.947130  ...        0.727127        0.082495   \n",
              "1  0.081632  0.846051  0.947364  ...        0.727115        0.082662   \n",
              "2  0.081650  0.846059  0.947598  ...        0.727090        0.082829   \n",
              "3  0.081680  0.846066  0.947744  ...        0.727040        0.083062   \n",
              "4  0.081730  0.846068  0.947785  ...        0.727040        0.083375   \n",
              "\n",
              "   LeftLowerLeg_y  LeftLowerLeg_z  LeftFoot_x  LeftFoot_y  LeftFoot_z  \\\n",
              "0        0.863089        0.434136    0.082813    0.856869    0.083565   \n",
              "1        0.863019        0.433361    0.082802    0.856903    0.083192   \n",
              "2        0.862949        0.432576    0.082792    0.856938    0.082826   \n",
              "3        0.862838        0.431703    0.082779    0.856948    0.082562   \n",
              "4        0.862662        0.430733    0.082758    0.856914    0.082381   \n",
              "\n",
              "   LeftToe_x  LeftToe_y  LeftToe_z  \n",
              "0   0.106956   0.840893   0.023704  \n",
              "1   0.106972   0.840950   0.025200  \n",
              "2   0.106988   0.841006   0.026696  \n",
              "3   0.106997   0.841040   0.027954  \n",
              "4   0.106993   0.841034   0.028858  \n",
              "\n",
              "[5 rows x 70 columns]"
            ]
          },
          "execution_count": 9,
          "metadata": {},
          "output_type": "execute_result"
        }
      ],
      "source": [
        "peckinge_dataset.head()"
      ]
    },
    {
      "cell_type": "markdown",
      "metadata": {
        "id": "Rj1_KiaHYO9M"
      },
      "source": [
        "# Inventory Dataset without robot"
      ]
    },
    {
      "cell_type": "code",
      "execution_count": null,
      "metadata": {
        "colab": {
          "background_save": true
        },
        "id": "y-EjB5KLXHvn"
      },
      "outputs": [],
      "source": [
        "frame2 = [df_P1_11, df_P1_12, df_P2_13, df_P2_14]\n",
        "inventory_dataset = pd.concat(frame2)"
      ]
    },
    {
      "cell_type": "code",
      "execution_count": null,
      "metadata": {
        "colab": {
          "background_save": true
        },
        "id": "EemoVzfKXNXp",
        "outputId": "bfa47b37-1776-47b0-e047-eba018065192"
      },
      "outputs": [
        {
          "data": {
            "text/plain": [
              "(50641, 70)"
            ]
          },
          "execution_count": 11,
          "metadata": {},
          "output_type": "execute_result"
        }
      ],
      "source": [
        "inventory_dataset.shape"
      ]
    },
    {
      "cell_type": "code",
      "execution_count": null,
      "metadata": {
        "colab": {
          "background_save": true
        },
        "id": "mkKSlk2NyytI"
      },
      "outputs": [],
      "source": [
        "del inventory_dataset['Timestamp']\n",
        "del peckinge_dataset['Timestamp']"
      ]
    },
    {
      "cell_type": "code",
      "execution_count": null,
      "metadata": {
        "colab": {
          "background_save": true
        },
        "id": "04qtWHJSCIzy"
      },
      "outputs": [],
      "source": [
        "inventory_dataset.to_csv(\"inventory_dataset.csv\", index=False)\n",
        "peckinge_dataset.to_csv(\"peckinge_dataset.csv\", index=False)"
      ]
    },
    {
      "cell_type": "code",
      "execution_count": null,
      "metadata": {
        "colab": {
          "background_save": true
        },
        "id": "7sw-HOLnnkYO"
      },
      "outputs": [],
      "source": [
        "inventory_dataset = pd.read_csv(\"inventory_dataset.csv\")\n",
        "peckinge_dataset = pd.read_csv(\"peckinge_dataset.csv\")"
      ]
    },
    {
      "cell_type": "markdown",
      "metadata": {
        "id": "fF_y8daxZV66"
      },
      "source": [
        "# prepares la clasification des données"
      ]
    },
    {
      "cell_type": "code",
      "execution_count": null,
      "metadata": {
        "colab": {
          "background_save": true
        },
        "id": "CAeCdngIYxoI"
      },
      "outputs": [],
      "source": [
        "def import_data(dataframe, classe):\n",
        "  train_data = np.empty((0,69))\n",
        "  train_classe = np.empty((0,1))\n",
        "  for i in range(len(dataframe)):\n",
        "    train_data=np.concatenate((train_data,dataframe.iloc[[i]]))\n",
        "    train_classe=np.concatenate((train_classe,[[classe]]))\n",
        "  return train_data, train_classe"
      ]
    },
    {
      "cell_type": "code",
      "execution_count": null,
      "metadata": {
        "colab": {
          "background_save": true
        },
        "id": "ZNGK1dvJaUOp"
      },
      "outputs": [],
      "source": [
        "x_pecking_data, y_pecking_data = import_data(peckinge_dataset,1)\n",
        "x_inventory_data, y_inventory_data = import_data(inventory_dataset,2)"
      ]
    },
    {
      "cell_type": "code",
      "execution_count": null,
      "metadata": {
        "colab": {
          "background_save": true
        },
        "id": "nYz7UDmyaz8j"
      },
      "outputs": [],
      "source": [
        "X = np.concatenate((x_pecking_data,x_inventory_data), axis = 0)\n",
        "y = np.concatenate((y_pecking_data,y_inventory_data), axis = 0)"
      ]
    },
    {
      "cell_type": "code",
      "execution_count": null,
      "metadata": {
        "colab": {
          "background_save": true
        },
        "id": "KE8-XLQvcLD3"
      },
      "outputs": [],
      "source": [
        "from sklearn.model_selection import train_test_split\n",
        "X_train, X_test, y_train, y_test = train_test_split(X, y, test_size=0.3, train_size=0.7, random_state=1)"
      ]
    },
    {
      "cell_type": "code",
      "execution_count": null,
      "metadata": {
        "colab": {
          "background_save": true
        },
        "id": "3cwLy17ac5Hm",
        "outputId": "f36bbad9-a7ea-4434-ded7-867dab06956e"
      },
      "outputs": [
        {
          "name": "stderr",
          "output_type": "stream",
          "text": [
            "/usr/local/lib/python3.8/dist-packages/sklearn/utils/validation.py:993: DataConversionWarning: A column-vector y was passed when a 1d array was expected. Please change the shape of y to (n_samples, ), for example using ravel().\n",
            "  y = column_or_1d(y, warn=True)\n"
          ]
        }
      ],
      "source": [
        "from sklearn.naive_bayes import GaussianNB\n",
        "from sklearn.metrics import (precision_score, recall_score, f1_score, accuracy_score, confusion_matrix)\n",
        "#fit the model with naive Bayes algorithm\n",
        "model_nb = GaussianNB()   \n",
        "model_nb.fit(X_train, y_train)\n",
        "#Prédire les données de test\n",
        "y_pred_nb = model_nb.predict(X_test) "
      ]
    },
    {
      "cell_type": "code",
      "execution_count": null,
      "metadata": {
        "colab": {
          "background_save": true
        },
        "id": "AYJZRi-qdT38"
      },
      "outputs": [],
      "source": [
        "import matplotlib.pyplot as plt\n",
        "\n",
        "def visualisier_resultat(y_test, y_pred, algo, modele):\n",
        "  #Evaluer le modele : Matrice de confusion\n",
        "  confusion_m= confusion_matrix(y_test, y_pred) \n",
        "  print(\"Matrice de confusion \\n\", confusion_m) #Evaluer le modele : Accuracy\n",
        "  acc = accuracy_score(y_test,y_pred) \n",
        "  print(\"Accuracy : \",acc)\n",
        "  #Precision\n",
        "  precision = precision_score(y_test,y_pred, pos_label='positive',average='micro')\n",
        "  print(\"precision : \",precision)\n",
        "  #Rappel\n",
        "  rappel = recall_score(y_test,y_pred,pos_label='positive',average='micro')\n",
        "  print(\"Rappel : \",rappel)\n",
        "  #F-mesure\n",
        "  f_mesure=f1_score(y_test, y_pred, labels=None, pos_label=1, average='micro',sample_weight=None,zero_division='warn') \n",
        "  print(\"f_mesure : \",f_mesure) #Graphiquement K-means\n",
        "  u_labels = np.unique(y_pred)\n",
        "  for i in u_labels:\n",
        "    plt.scatter(X_test[y_pred==i,0] , X_test[y_pred== i,1], label = 'Classes')\n",
        "    if algo == 'KM':\n",
        "      plt.scatter(modele.cluster_centers_[:, 0],modele.cluster_centers_[:, 1],c='black',label='Centroids')\n",
        "  plt.plot()\n",
        "  plt.show()\n"
      ]
    },
    {
      "cell_type": "code",
      "execution_count": null,
      "metadata": {
        "colab": {
          "background_save": true
        },
        "id": "x8cUcMoteVoJ",
        "outputId": "167b0e55-e54a-4d56-ff46-f440f7c125b2"
      },
      "outputs": [
        {
          "name": "stdout",
          "output_type": "stream",
          "text": [
            "Matrice de confusion \n",
            " [[13374  1969]\n",
            " [ 2322 12799]]\n",
            "Accuracy :  0.8591452205882353\n",
            "precision :  0.8591452205882353\n",
            "Rappel :  0.8591452205882353\n",
            "f_mesure :  0.8591452205882353\n"
          ]
        },
        {
          "name": "stderr",
          "output_type": "stream",
          "text": [
            "/usr/local/lib/python3.8/dist-packages/sklearn/metrics/_classification.py:1370: UserWarning: Note that pos_label (set to 'positive') is ignored when average != 'binary' (got 'micro'). You may use labels=[pos_label] to specify a single positive class.\n",
            "  warnings.warn(\n",
            "/usr/local/lib/python3.8/dist-packages/sklearn/metrics/_classification.py:1370: UserWarning: Note that pos_label (set to 'positive') is ignored when average != 'binary' (got 'micro'). You may use labels=[pos_label] to specify a single positive class.\n",
            "  warnings.warn(\n"
          ]
        },
        {
          "data": {
            "image/png": "[encoded data removed]",
            "text/plain": [
              "<Figure size 432x288 with 1 Axes>"
            ]
          },
          "metadata": {},
          "output_type": "display_data"
        }
      ],
      "source": [
        "visualisier_resultat(y_test, y_pred_nb,'NB',model_nb)"
      ]
    },
    {
      "cell_type": "code",
      "execution_count": null,
      "metadata": {
        "colab": {
          "background_save": true
        },
        "id": "ytffWKC1ec1J",
        "outputId": "0673c4bc-d925-4a1c-b5ef-8d812dba1e42"
      },
      "outputs": [
        {
          "name": "stdout",
          "output_type": "stream",
          "text": [
            "Résultat :  [0.59310684 0.27572624 0.5783358  0.46371246 0.51866076 0.\n",
            " 0.         0.         0.         0.        ]\n",
            "Matrice de confusion \n",
            " [[   0    0    0]\n",
            " [8415 6928    0]\n",
            " [7576 7545    0]]\n",
            "Accuracy :  0.22741596638655462\n",
            "precision :  0.22741596638655462\n",
            "Rappel :  0.22741596638655462\n",
            "f_mesure :  0.22741596638655462\n"
          ]
        },
        {
          "name": "stderr",
          "output_type": "stream",
          "text": [
            "/usr/local/lib/python3.8/dist-packages/sklearn/metrics/_classification.py:1370: UserWarning: Note that pos_label (set to 'positive') is ignored when average != 'binary' (got 'micro'). You may use labels=[pos_label] to specify a single positive class.\n",
            "  warnings.warn(\n",
            "/usr/local/lib/python3.8/dist-packages/sklearn/metrics/_classification.py:1370: UserWarning: Note that pos_label (set to 'positive') is ignored when average != 'binary' (got 'micro'). You may use labels=[pos_label] to specify a single positive class.\n",
            "  warnings.warn(\n"
          ]
        },
        {
          "data": {
            "image/png": "[encoded data removed]",
            "text/plain": [
              "<Figure size 432x288 with 1 Axes>"
            ]
          },
          "metadata": {},
          "output_type": "display_data"
        }
      ],
      "source": [
        "from sklearn.cluster import KMeans\n",
        "from sklearn import model_selection\n",
        "model_km = KMeans(2)\n",
        "#Entrainer le modéle K-means en utilisant X_train \n",
        "model_km.fit(X_train, y_train)\n",
        "#Cross validation 10_fold\n",
        "succes = model_selection.cross_val_score(model_km, X, y, cv=10,scoring='accuracy')\n",
        "print('Résultat : ', succes)\n",
        "#Prédire les données de test\n",
        "y_pred_km = model_km.predict(X_test) \n",
        "visualisier_resultat(y_test, y_pred_km,'KM',model_km)"
      ]
    },
    {
      "cell_type": "code",
      "execution_count": null,
      "metadata": {
        "colab": {
          "background_save": true
        },
        "id": "NwA3GrygfHym",
        "outputId": "3322f1ac-79cd-4a16-c20d-f7663706f9b8"
      },
      "outputs": [
        {
          "data": {
            "text/plain": [
              "array([[0.36724734, 0.30454506, 0.02635503, ..., 0.3335752 , 0.32695386,\n",
              "        0.06648312],\n",
              "       [0.55570962, 0.03932891, 0.76686386, ..., 0.55514493, 0.04489129,\n",
              "        0.09401652],\n",
              "       [0.74250747, 0.71143011, 0.95294861, ..., 0.70950647, 0.69210672,\n",
              "        0.07873867],\n",
              "       ...,\n",
              "       [0.7259252 , 0.31486445, 0.79571457, ..., 0.70030713, 0.25936052,\n",
              "        0.10856845],\n",
              "       [0.7372086 , 0.35011147, 0.35578927, ..., 0.71041344, 0.37508526,\n",
              "        0.07889348],\n",
              "       [0.11969661, 0.31470579, 0.99167514, ..., 0.11547448, 0.32569935,\n",
              "        0.06502293]])"
            ]
          },
          "execution_count": 23,
          "metadata": {},
          "output_type": "execute_result"
        }
      ],
      "source": [
        "X_test"
      ]
    },
    {
      "cell_type": "code",
      "execution_count": null,
      "metadata": {
        "colab": {
          "background_save": true
        },
        "id": "HTVklF0tfjkD"
      },
      "outputs": [],
      "source": [
        "#Prédire les données de test\n",
        "y_pred_nb = model_nb.predict(X_test[[0]]) "
      ]
    },
    {
      "cell_type": "code",
      "execution_count": null,
      "metadata": {
        "colab": {
          "background_save": true
        },
        "id": "55A0OmYhf3y1",
        "outputId": "dd21d6ba-9b08-48c9-b666-8f0b55eda272"
      },
      "outputs": [
        {
          "data": {
            "text/plain": [
              "array([2.])"
            ]
          },
          "execution_count": 25,
          "metadata": {},
          "output_type": "execute_result"
        }
      ],
      "source": [
        "y_pred_nb"
      ]
    },
    {
      "cell_type": "code",
      "execution_count": null,
      "metadata": {
        "colab": {
          "background_save": true
        },
        "id": "99irWMaAgEar",
        "outputId": "bfa7f351-6a06-4dc9-b74d-dae2d4348d05"
      },
      "outputs": [
        {
          "data": {
            "text/plain": [
              "array([2.])"
            ]
          },
          "execution_count": 26,
          "metadata": {},
          "output_type": "execute_result"
        }
      ],
      "source": [
        "y_test[0]"
      ]
    },
    {
      "cell_type": "code",
      "execution_count": null,
      "metadata": {
        "id": "UHz7ZvEegITJ"
      },
      "outputs": [],
      "source": [
        "def preprosess_data(dataframe):\n",
        "  train_data = np.empty((0,69))\n",
        "  for i in range(len(dataframe)):\n",
        "    train_data=np.concatenate((train_data,dataframe.iloc[[i]]))\n",
        "  return train_data"
      ]
    },
    {
      "cell_type": "code",
      "execution_count": null,
      "metadata": {
        "colab": {
          "background_save": true
        },
        "id": "EkGS8CfKqilp"
      },
      "outputs": [],
      "source": [
        "def clasification(X):\n",
        "  y_pred_nb = model_nb.predict(X)\n",
        "  print(y_pred_nb)\n",
        "  # Convert the predictions to a 1D array of class indices\n",
        "  predictions = y_pred_nb.astype('int')\n",
        "  print(predictions)\n",
        "  # Get the class with the majority of occurrences\n",
        "  majority_class = np.bincount(predictions).argmax()\n",
        "  if(majority_class == 1):\n",
        "    return \"sorting and pecking\"\n",
        "  elif(majority_class == 2):\n",
        "    return \"inventory checking\" "
      ]
    },
    {
      "cell_type": "code",
      "execution_count": null,
      "metadata": {
        "colab": {
          "background_save": true
        },
        "id": "2UuACYNnrfLz"
      },
      "outputs": [],
      "source": [
        "#df_P2_4 = pd.read_excel(\"P002_004.xlsx\")\n",
        "#del df_P2_4['Timestamp']"
      ]
    },
    {
      "cell_type": "code",
      "execution_count": null,
      "metadata": {
        "colab": {
          "background_save": true
        },
        "id": "NlYu0FuJ1xOE"
      },
      "outputs": [],
      "source": [
        "df_P1_4.shape\n",
        "del df_P1_4['Timestamp']"
      ]
    },
    {
      "cell_type": "code",
      "execution_count": null,
      "metadata": {
        "colab": {
          "background_save": true
        },
        "id": "4EL22wxBrttT",
        "outputId": "68789449-151c-447d-bc75-e1b9e2524e20"
      },
      "outputs": [
        {
          "name": "stdout",
          "output_type": "stream",
          "text": [
            "[1. 1. 1. ... 1. 1. 1.]\n",
            "[1 1 1 ... 1 1 1]\n",
            "sorting and pecking\n"
          ]
        },
        {
          "name": "stderr",
          "output_type": "stream",
          "text": [
            "/usr/local/lib/python3.8/dist-packages/sklearn/base.py:443: UserWarning: X has feature names, but GaussianNB was fitted without feature names\n",
            "  warnings.warn(\n"
          ]
        }
      ],
      "source": [
        "#data_P2_sorting = preprosess_data(df_P2_4)\n",
        "print(clasification(df_P1_4))"
      ]
    },
    {
      "cell_type": "code",
      "execution_count": null,
      "metadata": {
        "colab": {
          "background_save": true
        },
        "id": "lwdY8gaVse-F",
        "outputId": "e4b69cc0-af09-48c2-a49c-ef3edc921fbc"
      },
      "outputs": [
        {
          "name": "stderr",
          "output_type": "stream",
          "text": [
            "/usr/local/lib/python3.8/dist-packages/sklearn/base.py:443: UserWarning: X has feature names, but GaussianNB was fitted without feature names\n",
            "  warnings.warn(\n"
          ]
        },
        {
          "ename": "ValueError",
          "evalue": "ignored",
          "output_type": "error",
          "traceback": [
            "\u001b[0;31m---------------------------------------------------------------------------\u001b[0m",
            "\u001b[0;31mValueError\u001b[0m                                Traceback (most recent call last)",
            "\u001b[0;32m<ipython-input-32-f9d6c4f32aa3>\u001b[0m in \u001b[0;36m<module>\u001b[0;34m\u001b[0m\n\u001b[1;32m      3\u001b[0m \u001b[0;31m#del df_P2_13['Timestamp']\u001b[0m\u001b[0;34m\u001b[0m\u001b[0;34m\u001b[0m\u001b[0;34m\u001b[0m\u001b[0m\n\u001b[1;32m      4\u001b[0m \u001b[0;34m\u001b[0m\u001b[0m\n\u001b[0;32m----> 5\u001b[0;31m \u001b[0mprint\u001b[0m\u001b[0;34m(\u001b[0m\u001b[0mclasification\u001b[0m\u001b[0;34m(\u001b[0m\u001b[0mdf_P2_13\u001b[0m\u001b[0;34m)\u001b[0m\u001b[0;34m)\u001b[0m\u001b[0;34m\u001b[0m\u001b[0;34m\u001b[0m\u001b[0m\n\u001b[0m",
            "\u001b[0;32m<ipython-input-28-13d079774c4c>\u001b[0m in \u001b[0;36mclasification\u001b[0;34m(X)\u001b[0m\n\u001b[1;32m      1\u001b[0m \u001b[0;32mdef\u001b[0m \u001b[0mclasification\u001b[0m\u001b[0;34m(\u001b[0m\u001b[0mX\u001b[0m\u001b[0;34m)\u001b[0m\u001b[0;34m:\u001b[0m\u001b[0;34m\u001b[0m\u001b[0;34m\u001b[0m\u001b[0m\n\u001b[0;32m----> 2\u001b[0;31m   \u001b[0my_pred_nb\u001b[0m \u001b[0;34m=\u001b[0m \u001b[0mmodel_nb\u001b[0m\u001b[0;34m.\u001b[0m\u001b[0mpredict\u001b[0m\u001b[0;34m(\u001b[0m\u001b[0mX\u001b[0m\u001b[0;34m)\u001b[0m\u001b[0;34m\u001b[0m\u001b[0;34m\u001b[0m\u001b[0m\n\u001b[0m\u001b[1;32m      3\u001b[0m   \u001b[0mprint\u001b[0m\u001b[0;34m(\u001b[0m\u001b[0my_pred_nb\u001b[0m\u001b[0;34m)\u001b[0m\u001b[0;34m\u001b[0m\u001b[0;34m\u001b[0m\u001b[0m\n\u001b[1;32m      4\u001b[0m   \u001b[0;31m# Convert the predictions to a 1D array of class indices\u001b[0m\u001b[0;34m\u001b[0m\u001b[0;34m\u001b[0m\u001b[0;34m\u001b[0m\u001b[0m\n\u001b[1;32m      5\u001b[0m   \u001b[0mpredictions\u001b[0m \u001b[0;34m=\u001b[0m \u001b[0my_pred_nb\u001b[0m\u001b[0;34m.\u001b[0m\u001b[0mastype\u001b[0m\u001b[0;34m(\u001b[0m\u001b[0;34m'int'\u001b[0m\u001b[0;34m)\u001b[0m\u001b[0;34m\u001b[0m\u001b[0;34m\u001b[0m\u001b[0m\n",
            "\u001b[0;32m/usr/local/lib/python3.8/dist-packages/sklearn/naive_bayes.py\u001b[0m in \u001b[0;36mpredict\u001b[0;34m(self, X)\u001b[0m\n\u001b[1;32m     80\u001b[0m         \"\"\"\n\u001b[1;32m     81\u001b[0m         \u001b[0mcheck_is_fitted\u001b[0m\u001b[0;34m(\u001b[0m\u001b[0mself\u001b[0m\u001b[0;34m)\u001b[0m\u001b[0;34m\u001b[0m\u001b[0;34m\u001b[0m\u001b[0m\n\u001b[0;32m---> 82\u001b[0;31m         \u001b[0mX\u001b[0m \u001b[0;34m=\u001b[0m \u001b[0mself\u001b[0m\u001b[0;34m.\u001b[0m\u001b[0m_check_X\u001b[0m\u001b[0;34m(\u001b[0m\u001b[0mX\u001b[0m\u001b[0;34m)\u001b[0m\u001b[0;34m\u001b[0m\u001b[0;34m\u001b[0m\u001b[0m\n\u001b[0m\u001b[1;32m     83\u001b[0m         \u001b[0mjll\u001b[0m \u001b[0;34m=\u001b[0m \u001b[0mself\u001b[0m\u001b[0;34m.\u001b[0m\u001b[0m_joint_log_likelihood\u001b[0m\u001b[0;34m(\u001b[0m\u001b[0mX\u001b[0m\u001b[0;34m)\u001b[0m\u001b[0;34m\u001b[0m\u001b[0;34m\u001b[0m\u001b[0m\n\u001b[1;32m     84\u001b[0m         \u001b[0;32mreturn\u001b[0m \u001b[0mself\u001b[0m\u001b[0;34m.\u001b[0m\u001b[0mclasses_\u001b[0m\u001b[0;34m[\u001b[0m\u001b[0mnp\u001b[0m\u001b[0;34m.\u001b[0m\u001b[0margmax\u001b[0m\u001b[0;34m(\u001b[0m\u001b[0mjll\u001b[0m\u001b[0;34m,\u001b[0m \u001b[0maxis\u001b[0m\u001b[0;34m=\u001b[0m\u001b[0;36m1\u001b[0m\u001b[0;34m)\u001b[0m\u001b[0;34m]\u001b[0m\u001b[0;34m\u001b[0m\u001b[0;34m\u001b[0m\u001b[0m\n",
            "\u001b[0;32m/usr/local/lib/python3.8/dist-packages/sklearn/naive_bayes.py\u001b[0m in \u001b[0;36m_check_X\u001b[0;34m(self, X)\u001b[0m\n\u001b[1;32m    249\u001b[0m     \u001b[0;32mdef\u001b[0m \u001b[0m_check_X\u001b[0m\u001b[0;34m(\u001b[0m\u001b[0mself\u001b[0m\u001b[0;34m,\u001b[0m \u001b[0mX\u001b[0m\u001b[0;34m)\u001b[0m\u001b[0;34m:\u001b[0m\u001b[0;34m\u001b[0m\u001b[0;34m\u001b[0m\u001b[0m\n\u001b[1;32m    250\u001b[0m         \u001b[0;34m\"\"\"Validate X, used only in predict* methods.\"\"\"\u001b[0m\u001b[0;34m\u001b[0m\u001b[0;34m\u001b[0m\u001b[0m\n\u001b[0;32m--> 251\u001b[0;31m         \u001b[0;32mreturn\u001b[0m \u001b[0mself\u001b[0m\u001b[0;34m.\u001b[0m\u001b[0m_validate_data\u001b[0m\u001b[0;34m(\u001b[0m\u001b[0mX\u001b[0m\u001b[0;34m,\u001b[0m \u001b[0mreset\u001b[0m\u001b[0;34m=\u001b[0m\u001b[0;32mFalse\u001b[0m\u001b[0;34m)\u001b[0m\u001b[0;34m\u001b[0m\u001b[0;34m\u001b[0m\u001b[0m\n\u001b[0m\u001b[1;32m    252\u001b[0m \u001b[0;34m\u001b[0m\u001b[0m\n\u001b[1;32m    253\u001b[0m     \u001b[0;34m@\u001b[0m\u001b[0mstaticmethod\u001b[0m\u001b[0;34m\u001b[0m\u001b[0;34m\u001b[0m\u001b[0m\n",
            "\u001b[0;32m/usr/local/lib/python3.8/dist-packages/sklearn/base.py\u001b[0m in \u001b[0;36m_validate_data\u001b[0;34m(self, X, y, reset, validate_separately, **check_params)\u001b[0m\n\u001b[1;32m    583\u001b[0m \u001b[0;34m\u001b[0m\u001b[0m\n\u001b[1;32m    584\u001b[0m         \u001b[0;32mif\u001b[0m \u001b[0;32mnot\u001b[0m \u001b[0mno_val_X\u001b[0m \u001b[0;32mand\u001b[0m \u001b[0mcheck_params\u001b[0m\u001b[0;34m.\u001b[0m\u001b[0mget\u001b[0m\u001b[0;34m(\u001b[0m\u001b[0;34m\"ensure_2d\"\u001b[0m\u001b[0;34m,\u001b[0m \u001b[0;32mTrue\u001b[0m\u001b[0;34m)\u001b[0m\u001b[0;34m:\u001b[0m\u001b[0;34m\u001b[0m\u001b[0;34m\u001b[0m\u001b[0m\n\u001b[0;32m--> 585\u001b[0;31m             \u001b[0mself\u001b[0m\u001b[0;34m.\u001b[0m\u001b[0m_check_n_features\u001b[0m\u001b[0;34m(\u001b[0m\u001b[0mX\u001b[0m\u001b[0;34m,\u001b[0m \u001b[0mreset\u001b[0m\u001b[0;34m=\u001b[0m\u001b[0mreset\u001b[0m\u001b[0;34m)\u001b[0m\u001b[0;34m\u001b[0m\u001b[0;34m\u001b[0m\u001b[0m\n\u001b[0m\u001b[1;32m    586\u001b[0m \u001b[0;34m\u001b[0m\u001b[0m\n\u001b[1;32m    587\u001b[0m         \u001b[0;32mreturn\u001b[0m \u001b[0mout\u001b[0m\u001b[0;34m\u001b[0m\u001b[0;34m\u001b[0m\u001b[0m\n",
            "\u001b[0;32m/usr/local/lib/python3.8/dist-packages/sklearn/base.py\u001b[0m in \u001b[0;36m_check_n_features\u001b[0;34m(self, X, reset)\u001b[0m\n\u001b[1;32m    398\u001b[0m \u001b[0;34m\u001b[0m\u001b[0m\n\u001b[1;32m    399\u001b[0m         \u001b[0;32mif\u001b[0m \u001b[0mn_features\u001b[0m \u001b[0;34m!=\u001b[0m \u001b[0mself\u001b[0m\u001b[0;34m.\u001b[0m\u001b[0mn_features_in_\u001b[0m\u001b[0;34m:\u001b[0m\u001b[0;34m\u001b[0m\u001b[0;34m\u001b[0m\u001b[0m\n\u001b[0;32m--> 400\u001b[0;31m             raise ValueError(\n\u001b[0m\u001b[1;32m    401\u001b[0m                 \u001b[0;34mf\"X has {n_features} features, but {self.__class__.__name__} \"\u001b[0m\u001b[0;34m\u001b[0m\u001b[0;34m\u001b[0m\u001b[0m\n\u001b[1;32m    402\u001b[0m                 \u001b[0;34mf\"is expecting {self.n_features_in_} features as input.\"\u001b[0m\u001b[0;34m\u001b[0m\u001b[0;34m\u001b[0m\u001b[0m\n",
            "\u001b[0;31mValueError\u001b[0m: X has 70 features, but GaussianNB is expecting 69 features as input."
          ]
        }
      ],
      "source": [
        "#df_P2_13 = pd.read_excel(\"P002_013.xlsx\")\n",
        "#del df_P2_13['Timestamp']\n",
        "#del df_P2_13['Timestamp']\n",
        "\n",
        "print(clasification(df_P2_13))"
      ]
    },
    {
      "cell_type": "code",
      "execution_count": null,
      "metadata": {
        "colab": {
          "background_save": true
        },
        "id": "BpOGu691tQjf"
      },
      "outputs": [],
      "source": [
        "#df_P2_14 = pd.read_excel(\"P002_014.xlsx\")\n",
        "#del df_P2_14['Timestamp']\n",
        "data_P2_invonery = preprosess_data(df_P2_14)\n",
        "print(clasification(data_P2_invonery))"
      ]
    },
    {
      "cell_type": "code",
      "execution_count": null,
      "metadata": {
        "id": "o4WPDVwIxxHb"
      },
      "outputs": [],
      "source": []
    }
  ],
  "metadata": {
    "colab": {
      "provenance": []
    },
    "kernelspec": {
      "display_name": "Python 3",
      "name": "python3"
    },
    "language_info": {
      "name": "python"
    }
  },
  "nbformat": 4,
  "nbformat_minor": 0
}