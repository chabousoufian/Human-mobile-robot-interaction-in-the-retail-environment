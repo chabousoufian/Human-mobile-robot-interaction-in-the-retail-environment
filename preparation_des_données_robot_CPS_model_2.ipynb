{
  "nbformat": 4,
  "nbformat_minor": 0,
  "metadata": {
    "colab": {
      "provenance": []
    },
    "kernelspec": {
      "name": "python3",
      "display_name": "Python 3"
    },
    "language_info": {
      "name": "python"
    }
  },
  "cells": [
    {
      "cell_type": "code",
      "execution_count": null,
      "metadata": {
        "id": "qeSJONSfUw6i"
      },
      "outputs": [],
      "source": [
        "import pandas as pd\n",
        "import numpy as np"
      ]
    },
    {
      "cell_type": "code",
      "source": [
        "df_P1_6 = pd.read_excel(\"P001_006.xlsx\")\n",
        "df_P1_7 = pd.read_excel(\"P001_007.xlsx\")\n",
        "df_P1_8 = pd.read_excel(\"P001_008_offaxis.xlsx\")\n",
        "df_P1_9 = pd.read_excel(\"P001_009.xlsx\")\n",
        "df_P1_10 = pd.read_excel(\"P001_010.xlsx\")\n",
        "\n",
        "\n",
        "\n",
        "df_P1_13 = pd.read_excel(\"P001_013.xlsx\")\n",
        "df_P1_14 = pd.read_excel(\"P001_014.xlsx\")\n",
        "\n",
        "df_P2_11 = pd.read_excel(\"P002_011.xlsx\")\n",
        "df_P2_12 = pd.read_excel(\"P002_012.xlsx\")"
      ],
      "metadata": {
        "id": "HRi79y81VAzj"
      },
      "execution_count": null,
      "outputs": []
    },
    {
      "cell_type": "code",
      "source": [
        "# Normalization\n",
        "def Normalization(df):\n",
        "\n",
        "  List = list(df)\n",
        "  for i in List:\n",
        "    max = df[i].max()\n",
        "    min = df[i].min()\n",
        "    for j in range(len(df[i])):\n",
        "      df[i].iloc[j] = (df[i].iloc[j]-min)/(max-min)\n",
        "  return df"
      ],
      "metadata": {
        "id": "iZqLDa_eVECf"
      },
      "execution_count": null,
      "outputs": []
    },
    {
      "cell_type": "code",
      "source": [
        "df_P1_6 = Normalization(df_P1_6)\n",
        "df_P1_7 = Normalization(df_P1_7)\n",
        "df_P1_8 = Normalization(df_P1_8)\n",
        "df_P1_9 = Normalization(df_P1_9)\n",
        "df_P1_10 = Normalization(df_P1_10)\n",
        "\n",
        "df_P1_13 = Normalization(df_P1_13)\n",
        "df_P1_14 = Normalization(df_P1_14)\n",
        "\n",
        "df_P2_11 = Normalization(df_P2_11)\n",
        "df_P2_12 = Normalization(df_P2_12)"
      ],
      "metadata": {
        "colab": {
          "base_uri": "https://localhost:8080/"
        },
        "id": "aI03mbMbVXfq",
        "outputId": "6ba253d7-2778-4980-88e5-b7df2983317f"
      },
      "execution_count": null,
      "outputs": [
        {
          "output_type": "stream",
          "name": "stderr",
          "text": [
            "/usr/local/lib/python3.8/dist-packages/pandas/core/indexing.py:1732: SettingWithCopyWarning: \n",
            "A value is trying to be set on a copy of a slice from a DataFrame\n",
            "\n",
            "See the caveats in the documentation: https://pandas.pydata.org/pandas-docs/stable/user_guide/indexing.html#returning-a-view-versus-a-copy\n",
            "  self._setitem_single_block(indexer, value, name)\n"
          ]
        }
      ]
    },
    {
      "cell_type": "code",
      "source": [
        "frame = [df_P1_6, df_P1_7, df_P1_8, df_P1_9, df_P1_10 ]"
      ],
      "metadata": {
        "id": "QR7mTNycVJBh"
      },
      "execution_count": null,
      "outputs": []
    },
    {
      "cell_type": "code",
      "source": [
        "peckinge_dataset_with_robot = pd.concat(frame)"
      ],
      "metadata": {
        "id": "bqUsKJOXVSJ7"
      },
      "execution_count": null,
      "outputs": []
    },
    {
      "cell_type": "code",
      "source": [
        "frame2 = [df_P2_11, df_P2_12, df_P1_13, df_P1_14]\n",
        "inventory_dataset_with_robot = pd.concat(frame2)"
      ],
      "metadata": {
        "id": "CQYC2whJVWVs"
      },
      "execution_count": null,
      "outputs": []
    },
    {
      "cell_type": "code",
      "source": [
        "del peckinge_dataset_with_robot['Timestamp']\n",
        "del inventory_dataset_with_robot['Timestamp']"
      ],
      "metadata": {
        "id": "pWg98hLWV4mg"
      },
      "execution_count": null,
      "outputs": []
    },
    {
      "cell_type": "code",
      "source": [
        "inventory_dataset_with_robot.to_csv(\"inventory_dataset_with_robot.csv\", index=False)\n",
        "peckinge_dataset_with_robot.to_csv(\"peckinge_dataset_with_robot.csv\", index=False)"
      ],
      "metadata": {
        "id": "zAVt5ooMV8fE"
      },
      "execution_count": null,
      "outputs": []
    }
  ]
}